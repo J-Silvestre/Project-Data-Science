{
 "cells": [
  {
   "cell_type": "code",
   "execution_count": 1,
   "metadata": {},
   "outputs": [],
   "source": [
    "#importing all the packages\n",
    "import pandas as pd\n",
    "import numpy as np\n",
    "import numpy as np\n",
    "import pandas as pd\n",
    "from matplotlib import pyplot as plt\n",
    "from sklearn.cluster import KMeans\n",
    "from sklearn import metrics\n",
    "from sklearn.cluster import MeanShift"
   ]
  },
  {
   "cell_type": "code",
   "execution_count": 3,
   "metadata": {},
   "outputs": [],
   "source": [
    "#importing data\n",
    "listings = pd.read_csv(\"listing_update/listingsUpdateOut.csv\")\n",
    "neighb = pd.read_csv(\"neighbourhoods_update/neighbourhoods_update.csv\", sep = \",\")\n",
    "main = pd.merge(listings, neighb, how=\"inner\", on=\"neighbourhood_group\")"
   ]
  },
  {
   "cell_type": "code",
   "execution_count": 11,
   "metadata": {},
   "outputs": [],
   "source": [
    "#selecting variables for clustering\n",
    "data = main[[\"price\", 'coefficient_of_location', \"population_density\", \"purchase_power_pc\", \"crime_rate_pc\"]]"
   ]
  },
  {
   "cell_type": "code",
   "execution_count": 5,
   "metadata": {},
   "outputs": [
    {
     "data": {
      "text/plain": [
       "{'Alenquer',\n",
       " 'Amadora',\n",
       " 'Azambuja',\n",
       " 'Cadaval',\n",
       " 'Cascais',\n",
       " 'Lisboa',\n",
       " 'Loures',\n",
       " 'Mafra',\n",
       " 'Odivelas',\n",
       " 'Oeiras',\n",
       " 'Sintra',\n",
       " 'Torres Vedras'}"
      ]
     },
     "execution_count": 5,
     "metadata": {},
     "output_type": "execute_result"
    }
   ],
   "source": [
    "#there are 12 different municipalities\n",
    "#will the clustering algorithm be able to cluster the subjects and identify 12 different groups?\n",
    "set(list(neighb.neighbourhood_group))"
   ]
  },
  {
   "cell_type": "code",
   "execution_count": 9,
   "metadata": {},
   "outputs": [
    {
     "data": {
      "text/html": [
       "<div>\n",
       "<style scoped>\n",
       "    .dataframe tbody tr th:only-of-type {\n",
       "        vertical-align: middle;\n",
       "    }\n",
       "\n",
       "    .dataframe tbody tr th {\n",
       "        vertical-align: top;\n",
       "    }\n",
       "\n",
       "    .dataframe thead th {\n",
       "        text-align: right;\n",
       "    }\n",
       "</style>\n",
       "<table border=\"1\" class=\"dataframe\">\n",
       "  <thead>\n",
       "    <tr style=\"text-align: right;\">\n",
       "      <th></th>\n",
       "      <th>price</th>\n",
       "      <th>coefficient_of_location</th>\n",
       "      <th>population_density</th>\n",
       "      <th>purchase_power_pc</th>\n",
       "      <th>crime_rate_pc</th>\n",
       "    </tr>\n",
       "  </thead>\n",
       "  <tbody>\n",
       "    <tr>\n",
       "      <th>0</th>\n",
       "      <td>50</td>\n",
       "      <td>2.2</td>\n",
       "      <td>5093.1</td>\n",
       "      <td>205.6</td>\n",
       "      <td>49.7</td>\n",
       "    </tr>\n",
       "  </tbody>\n",
       "</table>\n",
       "</div>"
      ],
      "text/plain": [
       "   price  coefficient_of_location  population_density  purchase_power_pc  \\\n",
       "0     50                      2.2              5093.1              205.6   \n",
       "\n",
       "   crime_rate_pc  \n",
       "0           49.7  "
      ]
     },
     "execution_count": 9,
     "metadata": {},
     "output_type": "execute_result"
    }
   ],
   "source": [
    "data.loc[0:0,:]"
   ]
  },
  {
   "cell_type": "code",
   "execution_count": 10,
   "metadata": {},
   "outputs": [
    {
     "data": {
      "text/plain": [
       "array([5], dtype=int64)"
      ]
     },
     "execution_count": 10,
     "metadata": {},
     "output_type": "execute_result"
    }
   ],
   "source": [
    "model1.predict(data.loc[0:0,:])"
   ]
  },
  {
   "cell_type": "code",
   "execution_count": null,
   "metadata": {},
   "outputs": [],
   "source": [
    "# define dataset\n",
    "data = main[[\"price\", 'coefficient_of_location']]\n",
    "# define the model\n",
    "model = MeanShift()\n",
    "# fit model and predict clusters\n",
    "clusters = model.fit_predict(data)\n",
    "data['cluster'] = pd.DataFrame(clusters)\n",
    "plt.scatter(data.price, data.coefficient_of_location, s=300, c=data.cluster)\n",
    "plt.show()"
   ]
  },
  {
   "cell_type": "code",
   "execution_count": null,
   "metadata": {},
   "outputs": [],
   "source": []
  }
 ],
 "metadata": {
  "kernelspec": {
   "display_name": "Python 3",
   "language": "python",
   "name": "python3"
  },
  "language_info": {
   "codemirror_mode": {
    "name": "ipython",
    "version": 3
   },
   "file_extension": ".py",
   "mimetype": "text/x-python",
   "name": "python",
   "nbconvert_exporter": "python",
   "pygments_lexer": "ipython3",
   "version": "3.8.3"
  }
 },
 "nbformat": 4,
 "nbformat_minor": 4
}
