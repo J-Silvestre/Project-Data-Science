{
 "cells": [
  {
   "cell_type": "code",
   "execution_count": null,
   "id": "c15e79c4",
   "metadata": {},
   "outputs": [],
   "source": [
    "# Import libraries\n",
    "import pandas as pd  "
   ]
  },
  {
   "cell_type": "code",
   "execution_count": null,
   "id": "9c3ad856",
   "metadata": {},
   "outputs": [],
   "source": [
    "# Read splitted review files -> Important: Directory needs to be changed!\n",
    "df_reviews_1 = pd.read_csv(\"C:\\\\Users\\\\rodri\\\\OneDrive\\\\Documentos\\\\GitHub\\\\Project-Data-Science\\\\reviews_update\\\\reviews_1.csv\", sep=\",\")\n",
    "df_reviews_2 = pd.read_csv(\"C:\\\\Users\\\\rodri\\\\OneDrive\\\\Documentos\\\\GitHub\\\\Project-Data-Science\\\\reviews_update\\\\reviews_2.csv\", sep=\",\")\n",
    "df_reviews_3 = pd.read_csv(\"C:\\\\Users\\\\rodri\\\\OneDrive\\\\Documentos\\\\GitHub\\\\Project-Data-Science\\\\reviews_update\\\\reviews_3.csv\", sep=\",\")\n",
    "df_reviews_4 = pd.read_csv(\"C:\\\\Users\\\\rodri\\\\OneDrive\\\\Documentos\\\\GitHub\\\\Project-Data-Science\\\\reviews_update\\\\reviews_4.csv\", sep=\",\")"
   ]
  },
  {
   "cell_type": "code",
   "execution_count": null,
   "id": "b398e204",
   "metadata": {},
   "outputs": [],
   "source": [
    "# Delete in each df rows with missing values \n",
    "df_reviews_1 = df_reviews_1.dropna()\n",
    "df_reviews_2 = df_reviews_2.dropna()\n",
    "df_reviews_3 = df_reviews_3.dropna()\n",
    "df_reviews_4 = df_reviews_4.dropna()"
   ]
  },
  {
   "cell_type": "markdown",
   "id": "1332bf50",
   "metadata": {},
   "source": [
    "Note: This code is a backup and can be used if you want to delete the sign (see below) in the comments of the reviews."
   ]
  },
  {
   "cell_type": "code",
   "execution_count": 1,
   "id": "06e00287",
   "metadata": {},
   "outputs": [
    {
     "data": {
      "text/plain": [
       "'\\n# Eliminate \\r<br/>\\ndf_reviews_1[\"comments\"] = df_reviews_1[\"comments\"].str.replace(\\'\\r<br/>\\', \\'\\')\\ndf_reviews_2[\"comments\"] = df_reviews_2[\"comments\"].str.replace(\\'\\r<br/>\\', \\'\\')\\ndf_reviews_3[\"comments\"] = df_reviews_3[\"comments\"].str.replace(\\'\\r<br/>\\', \\'\\')\\ndf_reviews_4[\"comments\"] = df_reviews_4[\"comments\"].str.replace(\\'\\r<br/>\\', \\'\\')\\n'"
      ]
     },
     "execution_count": 1,
     "metadata": {},
     "output_type": "execute_result"
    }
   ],
   "source": [
    "'''\n",
    "# Eliminate \\r<br/>\n",
    "df_reviews_1[\"comments\"] = df_reviews_1[\"comments\"].str.replace('\\r<br/>', '')\n",
    "df_reviews_2[\"comments\"] = df_reviews_2[\"comments\"].str.replace('\\r<br/>', '')\n",
    "df_reviews_3[\"comments\"] = df_reviews_3[\"comments\"].str.replace('\\r<br/>', '')\n",
    "df_reviews_4[\"comments\"] = df_reviews_4[\"comments\"].str.replace('\\r<br/>', '')\n",
    "'''"
   ]
  },
  {
   "cell_type": "markdown",
   "id": "9eb25094",
   "metadata": {},
   "source": [
    "Note: This code is a backup and can be used if you want to safe the updated dataframes in several files."
   ]
  },
  {
   "cell_type": "code",
   "execution_count": null,
   "id": "68a11475",
   "metadata": {},
   "outputs": [],
   "source": [
    "'''\n",
    "# Safe each df in one file called \"update\" -> Important: Directory needs to be changed!\n",
    "df_reviews_1.to_csv(\"C:\\\\Users\\\\rodri\\\\OneDrive\\\\Documentos\\\\GitHub\\\\Project-Data-Science\\\\reviews_update\\\\reviews_update_1.csv\", sep=\",\")\n",
    "df_reviews_2.to_csv(\"C:\\\\Users\\\\rodri\\\\OneDrive\\\\Documentos\\\\GitHub\\\\Project-Data-Science\\\\reviews_update\\\\reviews_update_2.csv\", sep=\",\")\n",
    "df_reviews_3.to_csv(\"C:\\\\Users\\\\rodri\\\\OneDrive\\\\Documentos\\\\GitHub\\\\Project-Data-Science\\\\reviews_update\\\\reviews_update_3.csv\", sep=\",\")\n",
    "df_reviews_4.to_csv(\"C:\\\\Users\\\\rodri\\\\OneDrive\\\\Documentos\\\\GitHub\\\\Project-Data-Science\\\\reviews_update\\\\reviews_update_4.csv\", sep=\",\")\n",
    "'''"
   ]
  },
  {
   "cell_type": "markdown",
   "id": "d9bfb671",
   "metadata": {},
   "source": [
    "Note: This code is a backup and can be used if you want to merge the splitted files together again."
   ]
  },
  {
   "cell_type": "code",
   "execution_count": null,
   "id": "dfeafaf4",
   "metadata": {},
   "outputs": [],
   "source": [
    "'''\n",
    "# merge splitted review files\n",
    "dfs = [df_reviews_1, df_reviews_2, df_reviews_3, df_reviews_4]\n",
    "merged_df = pd.concat(dfs)\n",
    "\n",
    "# Delete rows with missing values (Note: In those cases the comment is missing)\n",
    "merged_df = merged_df.dropna()\n",
    "'''"
   ]
  }
 ],
 "metadata": {
  "kernelspec": {
   "display_name": "Python 3",
   "language": "python",
   "name": "python3"
  },
  "language_info": {
   "codemirror_mode": {
    "name": "ipython",
    "version": 3
   },
   "file_extension": ".py",
   "mimetype": "text/x-python",
   "name": "python",
   "nbconvert_exporter": "python",
   "pygments_lexer": "ipython3",
   "version": "3.8.8"
  }
 },
 "nbformat": 4,
 "nbformat_minor": 5
}
