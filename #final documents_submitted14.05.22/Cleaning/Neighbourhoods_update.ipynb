{
 "cells": [
  {
   "cell_type": "code",
   "execution_count": 1,
   "metadata": {},
   "outputs": [],
   "source": [
    "# Importing Libraries\n",
    "import numpy as np\n",
    "import pandas as pd"
   ]
  },
  {
   "cell_type": "code",
   "execution_count": null,
   "metadata": {},
   "outputs": [],
   "source": [
    "#reading files\n",
    "df_neigh = pd.read_csv(\"Neighbourhoods.csv\", sep=\",\")\n",
    "df_purch = pd.read_excel(\"Purchase_power_pc.xlsx\",sheet_name=\"Sheet1\")\n",
    "df_crime = pd.read_excel(\"Crime_rate_pc.xlsx\",sheet_name=\"Sheet1\")\n",
    "df_pop = pd.read_excel(\"Population_density.xlsx\", sheet_name=\"Sheet1\")\n",
    "df_tourist = pd.read_excel(\"Tourist_accomodations.xlsx\", sheet_name = \"Sheet1\")"
   ]
  },
  {
   "cell_type": "code",
   "execution_count": null,
   "metadata": {},
   "outputs": [],
   "source": [
    "#merge all files and output it into a csv\n",
    "list1 = [df_purch, df_crime, df_pop, df_tourist]\n",
    "\n",
    "for i in range(len(list1)):\n",
    "    df_neigh= pd.merge(df_neigh, list1[i], how=\"inner\", on=\"neighbourhood_group\")\n",
    "\n",
    "df_neigh.to_csv(\"neighbourhoods_update.csv\", sep=\",\")"
   ]
  }
 ],
 "metadata": {
  "kernelspec": {
   "display_name": "Python 3",
   "language": "python",
   "name": "python3"
  },
  "language_info": {
   "codemirror_mode": {
    "name": "ipython",
    "version": 3
   },
   "file_extension": ".py",
   "mimetype": "text/x-python",
   "name": "python",
   "nbconvert_exporter": "python",
   "pygments_lexer": "ipython3",
   "version": "3.8.3"
  }
 },
 "nbformat": 4,
 "nbformat_minor": 4
}
