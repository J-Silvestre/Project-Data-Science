{
 "cells": [
  {
   "cell_type": "code",
   "execution_count": 17,
   "id": "506989d7",
   "metadata": {},
   "outputs": [],
   "source": [
    "import pandas as pd\n",
    "import numpy as np\n",
    "from sklearn import preprocessing\n",
    "import matplotlib.pyplot as plt \n",
    "from sklearn.linear_model import LogisticRegression\n",
    "from sklearn.model_selection import train_test_split\n",
    "from sklearn.preprocessing import scale\n",
    "from sklearn.model_selection import GridSearchCV\n",
    "from sklearn.decomposition import PCA\n",
    "import seaborn as sns\n",
    "import statsmodels.api as sm\n",
    "from sklearn.feature_selection import RFE\n",
    "from sklearn.utils import resample\n",
    "from sklearn.metrics import plot_confusion_matrix\n",
    "from sklearn.metrics import classification_report\n",
    "from sklearn.metrics import roc_auc_score\n",
    "from sklearn.metrics import roc_curve"
   ]
  },
  {
   "cell_type": "markdown",
   "id": "f6f9971f",
   "metadata": {},
   "source": [
    "## Merging the files"
   ]
  },
  {
   "cell_type": "code",
   "execution_count": 18,
   "id": "578bdd12",
   "metadata": {},
   "outputs": [],
   "source": [
    "#adding the external data as features\n",
    "listings = pd.read_csv(\"C:\\\\Users\\\\rodri\\\\OneDrive\\\\Documentos\\\\GitHub\\\\Project-Data-Science\\\\#final\\\\Data_files\\\\listingsUpdateOut.csv\")\n",
    "neighb = pd.read_csv(\"C:\\\\Users\\\\rodri\\\\OneDrive\\\\Documentos\\\\GitHub\\\\Project-Data-Science\\\\#final\\\\Data_files\\\\neighbourhoods_update.csv\", sep = \",\")\n",
    "main = pd.merge(listings, neighb, how=\"inner\", on=\"neighbourhood_group\")\n",
    "\n",
    "\n",
    "#adding the polarity as feauture\n",
    "sentiment= pd.read_csv(\"C:\\\\Users\\\\rodri\\\\OneDrive\\\\Documentos\\\\GitHub\\\\Project-Data-Science\\\\#final\\\\Data_files\\\\sentiment.csv\")\n",
    "sentiment= sentiment.rename(columns={\"listing_id\": \"id\"})\n",
    "main2 = pd.merge(main, sentiment, how= \"inner\", on=\"id\")"
   ]
  },
  {
   "cell_type": "markdown",
   "id": "69037e7a",
   "metadata": {},
   "source": [
    "# Classification algorithms"
   ]
  },
  {
   "cell_type": "markdown",
   "id": "bcf7048c",
   "metadata": {},
   "source": [
    "In this sections, multiple types of algorithms were executed, to understand which one performs better"
   ]
  },
  {
   "cell_type": "markdown",
   "id": "23df630f",
   "metadata": {},
   "source": [
    "## Loogistic regression"
   ]
  },
  {
   "cell_type": "code",
   "execution_count": 19,
   "id": "7dbdec9b",
   "metadata": {},
   "outputs": [
    {
     "data": {
      "text/plain": [
       "Index(['Unnamed: 0_x', 'Unnamed: 0.1', 'id', 'host_id', 'neighbourhood_group',\n",
       "       'neighbourhood_x', 'latitude', 'longitude', 'room_type', 'price',\n",
       "       'minimum_nights', 'number_of_reviews', 'reviews_per_month',\n",
       "       'calculated_host_listings_count', 'availability_365',\n",
       "       'number_of_reviews_ltm', 'host_response_time', 'host_identity_verified',\n",
       "       'host_response_rate', 'host_is_superhost', 'nr_of_bathrooms',\n",
       "       'bedrooms', 'accommodates', 'review_scores_rating',\n",
       "       'review_scores_cleanliness', 'review_scores_checkin',\n",
       "       'review_scores_communication', 'review_scores_location',\n",
       "       'review_scores_value', 'Unnamed: 0_y', 'neighbourhood_y',\n",
       "       'coefficient_of_location', 'purchase_power_pc', 'crime_pt',\n",
       "       'population_density', 'other_touristic_accomodations', 'Polarity'],\n",
       "      dtype='object')"
      ]
     },
     "execution_count": 19,
     "metadata": {},
     "output_type": "execute_result"
    }
   ],
   "source": [
    "main2.columns"
   ]
  },
  {
   "cell_type": "code",
   "execution_count": 20,
   "id": "d2e66406",
   "metadata": {},
   "outputs": [],
   "source": [
    "datalog=main2[['price','minimum_nights', 'number_of_reviews', 'reviews_per_month',\n",
    "       'calculated_host_listings_count', 'availability_365',\n",
    "       'number_of_reviews_ltm', 'host_response_time',\n",
    "       'host_response_rate', 'host_is_superhost', 'nr_of_bathrooms',\n",
    "       'bedrooms', 'accommodates', 'review_scores_rating', 'host_identity_verified',\n",
    "       'review_scores_cleanliness', 'review_scores_checkin',\n",
    "       'review_scores_communication', 'review_scores_location',\n",
    "       'review_scores_value','coefficient_of_location', 'purchase_power_pc', 'crime_pt',\n",
    "       'population_density', 'other_touristic_accomodations', 'Polarity']]"
   ]
  },
  {
   "cell_type": "code",
   "execution_count": 21,
   "id": "65ffc75e",
   "metadata": {},
   "outputs": [],
   "source": [
    "#dependent variable --> binary\n",
    "y= datalog[['host_is_superhost']]\n",
    "\n",
    "#features selected to use, works better with just these\n",
    "x = datalog[[\"number_of_reviews\", 'coefficient_of_location', \"nr_of_bathrooms\", \"bedrooms\", \"review_scores_rating\", \"purchase_power_pc\", \"crime_pt\", \"population_density\", \"host_response_rate\", \"Polarity\"]]\n",
    "x2=datalog[[\"review_scores_rating\",\"host_response_rate\",\"calculated_host_listings_count\", 'coefficient_of_location',\"crime_pt\",\"Polarity\", \"price\", \"availability_365\", \"number_of_reviews\", \"bedrooms\"]]\n",
    "\n",
    "x3=datalog[[\"review_scores_rating\",\"host_response_rate\",\"Polarity\", \"crime_pt\",\n",
    "            'host_identity_verified',\"coefficient_of_location\",\n",
    "            \"number_of_reviews\", \"price\"]]"
   ]
  },
  {
   "cell_type": "code",
   "execution_count": 22,
   "id": "019172cd",
   "metadata": {
    "scrolled": false
   },
   "outputs": [
    {
     "name": "stdout",
     "output_type": "stream",
     "text": [
      "Optimization terminated successfully.\n",
      "         Current function value: 0.626219\n",
      "         Iterations 5\n",
      "                             Results: Logit\n",
      "========================================================================\n",
      "Model:                 Logit              Pseudo R-squared:  0.053      \n",
      "Dependent Variable:    host_is_superhost  AIC:               246420.7673\n",
      "Date:                  2022-05-12 15:26   BIC:               246502.2844\n",
      "No. Observations:      196740             Log-Likelihood:    -1.2320e+05\n",
      "Df Model:              7                  LL-Null:           -1.3012e+05\n",
      "Df Residuals:          196732             LLR p-value:       0.0000     \n",
      "Converged:             1.0000             Scale:             1.0000     \n",
      "No. Iterations:        5.0000                                           \n",
      "------------------------------------------------------------------------\n",
      "                         Coef.  Std.Err.    z     P>|z|   [0.025  0.975]\n",
      "------------------------------------------------------------------------\n",
      "review_scores_rating     0.0481   0.0089   5.3986 0.0000  0.0306  0.0656\n",
      "host_response_rate       0.1104   0.0344   3.2075 0.0013  0.0429  0.1778\n",
      "Polarity                 2.1531   0.0473  45.4974 0.0000  2.0603  2.2458\n",
      "crime_pt                -0.0422   0.0007 -58.8759 0.0000 -0.0436 -0.0408\n",
      "host_identity_verified   0.2410   0.0174  13.8231 0.0000  0.2068  0.2752\n",
      "coefficient_of_location -0.0498   0.0090  -5.5014 0.0000 -0.0675 -0.0320\n",
      "number_of_reviews        0.0054   0.0001  87.6787 0.0000  0.0052  0.0055\n",
      "price                    0.0009   0.0001  10.9384 0.0000  0.0008  0.0011\n",
      "========================================================================\n",
      "\n"
     ]
    }
   ],
   "source": [
    "#Using statsmodel to create the logistic regression\n",
    "logit_model=sm.Logit(y,x3)\n",
    "result=logit_model.fit()\n",
    "print(result.summary2())"
   ]
  },
  {
   "cell_type": "code",
   "execution_count": 23,
   "id": "3802b9af",
   "metadata": {},
   "outputs": [
    {
     "name": "stderr",
     "output_type": "stream",
     "text": [
      "C:\\Users\\rodri\\anaconda3\\lib\\site-packages\\sklearn\\utils\\validation.py:63: DataConversionWarning: A column-vector y was passed when a 1d array was expected. Please change the shape of y to (n_samples, ), for example using ravel().\n",
      "  return f(*args, **kwargs)\n",
      "C:\\Users\\rodri\\anaconda3\\lib\\site-packages\\sklearn\\linear_model\\_logistic.py:763: ConvergenceWarning: lbfgs failed to converge (status=1):\n",
      "STOP: TOTAL NO. of ITERATIONS REACHED LIMIT.\n",
      "\n",
      "Increase the number of iterations (max_iter) or scale the data as shown in:\n",
      "    https://scikit-learn.org/stable/modules/preprocessing.html\n",
      "Please also refer to the documentation for alternative solver options:\n",
      "    https://scikit-learn.org/stable/modules/linear_model.html#logistic-regression\n",
      "  n_iter_i = _check_optimize_result(\n"
     ]
    },
    {
     "data": {
      "text/plain": [
       "LogisticRegression()"
      ]
     },
     "execution_count": 23,
     "metadata": {},
     "output_type": "execute_result"
    }
   ],
   "source": [
    "#Using sklearn to create the logistic regression\n",
    "X_train, X_test, y_train, y_test = train_test_split(x3, y, test_size=0.3, random_state=0)\n",
    "logreg = LogisticRegression()\n",
    "logreg.fit(X_train, y_train)"
   ]
  },
  {
   "cell_type": "code",
   "execution_count": 24,
   "id": "95f5b64f",
   "metadata": {},
   "outputs": [
    {
     "data": {
      "text/plain": [
       "array([[ 1.68758526e+00,  1.07147087e+00,  4.48083638e+00,\n",
       "        -1.71236045e-02,  3.34111674e-01, -3.61086118e-02,\n",
       "         4.86368094e-03,  8.68382924e-05]])"
      ]
     },
     "execution_count": 24,
     "metadata": {},
     "output_type": "execute_result"
    }
   ],
   "source": [
    "#taking a look at the coeficients obtained\n",
    "logreg.coef_"
   ]
  },
  {
   "cell_type": "code",
   "execution_count": 25,
   "id": "8002838e",
   "metadata": {},
   "outputs": [
    {
     "name": "stdout",
     "output_type": "stream",
     "text": [
      "Accuracy of logistic regression classifier on test set: 0.70\n"
     ]
    }
   ],
   "source": [
    "#Getting the accuracy of the model\n",
    "y_pred = logreg.predict(X_test)\n",
    "print('Accuracy of logistic regression classifier on test set: {:.2f}'.format(logreg.score(X_test, y_test)))"
   ]
  },
  {
   "cell_type": "code",
   "execution_count": 26,
   "id": "4da8cf34",
   "metadata": {},
   "outputs": [
    {
     "data": {
      "text/plain": [
       "<sklearn.metrics._plot.confusion_matrix.ConfusionMatrixDisplay at 0x1bf98636250>"
      ]
     },
     "execution_count": 26,
     "metadata": {},
     "output_type": "execute_result"
    },
    {
     "data": {
      "image/png": "[encoded data removed]",
      "text/plain": [
       "<Figure size 432x288 with 2 Axes>"
      ]
     },
     "metadata": {
      "needs_background": "light"
     },
     "output_type": "display_data"
    }
   ],
   "source": [
    "#ploting a confusion matrix to take a look at false positive and false negative\n",
    "plot_confusion_matrix(logreg,\n",
    "                     X_test,\n",
    "                     y_test,\n",
    "                     values_format='d')"
   ]
  },
  {
   "cell_type": "code",
   "execution_count": 27,
   "id": "452a92b1",
   "metadata": {},
   "outputs": [
    {
     "name": "stdout",
     "output_type": "stream",
     "text": [
      "              precision    recall  f1-score   support\n",
      "\n",
      "           0       0.72      0.84      0.78     37111\n",
      "           1       0.63      0.46      0.53     21911\n",
      "\n",
      "    accuracy                           0.70     59022\n",
      "   macro avg       0.68      0.65      0.65     59022\n",
      "weighted avg       0.69      0.70      0.69     59022\n",
      "\n"
     ]
    }
   ],
   "source": [
    "#To understand the precision and recall of the model\n",
    "print(classification_report(y_test, y_pred))"
   ]
  },
  {
   "cell_type": "code",
   "execution_count": 28,
   "id": "53d58008",
   "metadata": {},
   "outputs": [
    {
     "data": {
      "image/png": "[encoded data removed]",
      "text/plain": [
       "<Figure size 432x288 with 1 Axes>"
      ]
     },
     "metadata": {
      "needs_background": "light"
     },
     "output_type": "display_data"
    }
   ],
   "source": [
    "#Plotting a roc curve to have a better visualization of how good our classifier is\n",
    "logit_roc_auc = roc_auc_score(y_test, logreg.predict(X_test))\n",
    "fpr, tpr, thresholds = roc_curve(y_test, logreg.predict_proba(X_test)[:,1])\n",
    "plt.figure()\n",
    "plt.plot(fpr, tpr, label='Logistic Regression (area = %0.2f)' % logit_roc_auc)\n",
    "plt.plot([0, 1], [0, 1],'r--')\n",
    "plt.xlim([0.0, 1.0])\n",
    "plt.ylim([0.0, 1.05])\n",
    "plt.xlabel('False Positive Rate')\n",
    "plt.ylabel('True Positive Rate')\n",
    "plt.title('Receiver operating characteristic')\n",
    "plt.legend(loc=\"lower right\")\n",
    "#plt.savefig('Log_ROC')\n",
    "plt.show()"
   ]
  },
  {
   "cell_type": "markdown",
   "id": "7e09b9d8",
   "metadata": {},
   "source": [
    "## SVM"
   ]
  },
  {
   "cell_type": "markdown",
   "id": "366a32bf",
   "metadata": {},
   "source": [
    "SVM algorithm works better with small datasets, therefore we need to perform a resample by downsampling the dataset, 1000 data was collected from each binary outcome, superhost or notsuperhost."
   ]
  },
  {
   "cell_type": "code",
   "execution_count": 29,
   "id": "4a5276c6",
   "metadata": {},
   "outputs": [
    {
     "data": {
      "text/plain": [
       "196740"
      ]
     },
     "execution_count": 29,
     "metadata": {},
     "output_type": "execute_result"
    }
   ],
   "source": [
    "len(datalog)"
   ]
  },
  {
   "cell_type": "code",
   "execution_count": 30,
   "id": "3f2e9615",
   "metadata": {},
   "outputs": [],
   "source": [
    "#resampling \n",
    "datalogSuperHost=datalog[datalog[\"host_is_superhost\"]== 1]\n",
    "datalogHost=datalog[datalog[\"host_is_superhost\"]== 0]"
   ]
  },
  {
   "cell_type": "code",
   "execution_count": 31,
   "id": "caa7a195",
   "metadata": {},
   "outputs": [],
   "source": [
    "#downsample\n",
    "datalogSuperHost_downsample= resample(datalogSuperHost, replace= False, n_samples= 1000, random_state=42)\n",
    "\n",
    "\n",
    "\n",
    "datalogHost_downsample= resample(datalogHost, replace= False, n_samples= 1000, random_state=42)\n",
    "\n"
   ]
  },
  {
   "cell_type": "code",
   "execution_count": 32,
   "id": "1e73b287",
   "metadata": {},
   "outputs": [
    {
     "data": {
      "text/plain": [
       "2000"
      ]
     },
     "execution_count": 32,
     "metadata": {},
     "output_type": "execute_result"
    }
   ],
   "source": [
    "#concacenating \n",
    "datalog_downsample= pd.concat([datalogHost_downsample,datalogSuperHost_downsample])\n",
    "len(datalog_downsample)"
   ]
  },
  {
   "cell_type": "code",
   "execution_count": 33,
   "id": "4527c86d",
   "metadata": {},
   "outputs": [
    {
     "data": {
      "text/html": [
       "<div>\n",
       "<style scoped>\n",
       "    .dataframe tbody tr th:only-of-type {\n",
       "        vertical-align: middle;\n",
       "    }\n",
       "\n",
       "    .dataframe tbody tr th {\n",
       "        vertical-align: top;\n",
       "    }\n",
       "\n",
       "    .dataframe thead th {\n",
       "        text-align: right;\n",
       "    }\n",
       "</style>\n",
       "<table border=\"1\" class=\"dataframe\">\n",
       "  <thead>\n",
       "    <tr style=\"text-align: right;\">\n",
       "      <th></th>\n",
       "      <th>price</th>\n",
       "      <th>minimum_nights</th>\n",
       "      <th>number_of_reviews</th>\n",
       "      <th>reviews_per_month</th>\n",
       "      <th>calculated_host_listings_count</th>\n",
       "      <th>availability_365</th>\n",
       "      <th>number_of_reviews_ltm</th>\n",
       "      <th>host_response_time</th>\n",
       "      <th>host_response_rate</th>\n",
       "      <th>host_is_superhost</th>\n",
       "      <th>...</th>\n",
       "      <th>review_scores_checkin</th>\n",
       "      <th>review_scores_communication</th>\n",
       "      <th>review_scores_location</th>\n",
       "      <th>review_scores_value</th>\n",
       "      <th>coefficient_of_location</th>\n",
       "      <th>purchase_power_pc</th>\n",
       "      <th>crime_pt</th>\n",
       "      <th>population_density</th>\n",
       "      <th>other_touristic_accomodations</th>\n",
       "      <th>Polarity</th>\n",
       "    </tr>\n",
       "  </thead>\n",
       "  <tbody>\n",
       "    <tr>\n",
       "      <th>46999</th>\n",
       "      <td>161</td>\n",
       "      <td>1</td>\n",
       "      <td>62</td>\n",
       "      <td>0.97</td>\n",
       "      <td>38</td>\n",
       "      <td>317</td>\n",
       "      <td>3</td>\n",
       "      <td>1</td>\n",
       "      <td>0.98</td>\n",
       "      <td>0</td>\n",
       "      <td>...</td>\n",
       "      <td>4.61</td>\n",
       "      <td>4.69</td>\n",
       "      <td>4.86</td>\n",
       "      <td>4.44</td>\n",
       "      <td>3.50</td>\n",
       "      <td>205.6</td>\n",
       "      <td>49.7</td>\n",
       "      <td>5093.1</td>\n",
       "      <td>124</td>\n",
       "      <td>0.329358</td>\n",
       "    </tr>\n",
       "    <tr>\n",
       "      <th>96426</th>\n",
       "      <td>61</td>\n",
       "      <td>2</td>\n",
       "      <td>122</td>\n",
       "      <td>2.95</td>\n",
       "      <td>1</td>\n",
       "      <td>346</td>\n",
       "      <td>24</td>\n",
       "      <td>1</td>\n",
       "      <td>1.00</td>\n",
       "      <td>0</td>\n",
       "      <td>...</td>\n",
       "      <td>4.78</td>\n",
       "      <td>4.89</td>\n",
       "      <td>4.72</td>\n",
       "      <td>4.72</td>\n",
       "      <td>2.50</td>\n",
       "      <td>205.6</td>\n",
       "      <td>49.7</td>\n",
       "      <td>5093.1</td>\n",
       "      <td>124</td>\n",
       "      <td>0.318382</td>\n",
       "    </tr>\n",
       "    <tr>\n",
       "      <th>137801</th>\n",
       "      <td>110</td>\n",
       "      <td>2</td>\n",
       "      <td>11</td>\n",
       "      <td>0.41</td>\n",
       "      <td>10</td>\n",
       "      <td>65</td>\n",
       "      <td>4</td>\n",
       "      <td>1</td>\n",
       "      <td>1.00</td>\n",
       "      <td>0</td>\n",
       "      <td>...</td>\n",
       "      <td>4.90</td>\n",
       "      <td>5.00</td>\n",
       "      <td>4.90</td>\n",
       "      <td>4.70</td>\n",
       "      <td>3.00</td>\n",
       "      <td>205.6</td>\n",
       "      <td>49.7</td>\n",
       "      <td>5093.1</td>\n",
       "      <td>124</td>\n",
       "      <td>0.099570</td>\n",
       "    </tr>\n",
       "    <tr>\n",
       "      <th>40072</th>\n",
       "      <td>61</td>\n",
       "      <td>5</td>\n",
       "      <td>131</td>\n",
       "      <td>1.94</td>\n",
       "      <td>2</td>\n",
       "      <td>6</td>\n",
       "      <td>9</td>\n",
       "      <td>3</td>\n",
       "      <td>0.50</td>\n",
       "      <td>0</td>\n",
       "      <td>...</td>\n",
       "      <td>4.85</td>\n",
       "      <td>4.86</td>\n",
       "      <td>4.91</td>\n",
       "      <td>4.77</td>\n",
       "      <td>2.10</td>\n",
       "      <td>205.6</td>\n",
       "      <td>49.7</td>\n",
       "      <td>5093.1</td>\n",
       "      <td>124</td>\n",
       "      <td>0.354581</td>\n",
       "    </tr>\n",
       "    <tr>\n",
       "      <th>100822</th>\n",
       "      <td>88</td>\n",
       "      <td>3</td>\n",
       "      <td>34</td>\n",
       "      <td>0.86</td>\n",
       "      <td>24</td>\n",
       "      <td>350</td>\n",
       "      <td>0</td>\n",
       "      <td>1</td>\n",
       "      <td>1.00</td>\n",
       "      <td>0</td>\n",
       "      <td>...</td>\n",
       "      <td>4.03</td>\n",
       "      <td>4.68</td>\n",
       "      <td>4.79</td>\n",
       "      <td>4.76</td>\n",
       "      <td>2.45</td>\n",
       "      <td>205.6</td>\n",
       "      <td>49.7</td>\n",
       "      <td>5093.1</td>\n",
       "      <td>124</td>\n",
       "      <td>0.316766</td>\n",
       "    </tr>\n",
       "    <tr>\n",
       "      <th>...</th>\n",
       "      <td>...</td>\n",
       "      <td>...</td>\n",
       "      <td>...</td>\n",
       "      <td>...</td>\n",
       "      <td>...</td>\n",
       "      <td>...</td>\n",
       "      <td>...</td>\n",
       "      <td>...</td>\n",
       "      <td>...</td>\n",
       "      <td>...</td>\n",
       "      <td>...</td>\n",
       "      <td>...</td>\n",
       "      <td>...</td>\n",
       "      <td>...</td>\n",
       "      <td>...</td>\n",
       "      <td>...</td>\n",
       "      <td>...</td>\n",
       "      <td>...</td>\n",
       "      <td>...</td>\n",
       "      <td>...</td>\n",
       "      <td>...</td>\n",
       "    </tr>\n",
       "    <tr>\n",
       "      <th>75861</th>\n",
       "      <td>75</td>\n",
       "      <td>2</td>\n",
       "      <td>36</td>\n",
       "      <td>0.78</td>\n",
       "      <td>30</td>\n",
       "      <td>214</td>\n",
       "      <td>7</td>\n",
       "      <td>1</td>\n",
       "      <td>1.00</td>\n",
       "      <td>1</td>\n",
       "      <td>...</td>\n",
       "      <td>4.94</td>\n",
       "      <td>4.83</td>\n",
       "      <td>4.83</td>\n",
       "      <td>4.69</td>\n",
       "      <td>2.60</td>\n",
       "      <td>205.6</td>\n",
       "      <td>49.7</td>\n",
       "      <td>5093.1</td>\n",
       "      <td>124</td>\n",
       "      <td>0.359192</td>\n",
       "    </tr>\n",
       "    <tr>\n",
       "      <th>35129</th>\n",
       "      <td>75</td>\n",
       "      <td>3</td>\n",
       "      <td>7</td>\n",
       "      <td>0.10</td>\n",
       "      <td>2</td>\n",
       "      <td>324</td>\n",
       "      <td>4</td>\n",
       "      <td>1</td>\n",
       "      <td>1.00</td>\n",
       "      <td>1</td>\n",
       "      <td>...</td>\n",
       "      <td>4.86</td>\n",
       "      <td>5.00</td>\n",
       "      <td>4.57</td>\n",
       "      <td>4.43</td>\n",
       "      <td>3.00</td>\n",
       "      <td>205.6</td>\n",
       "      <td>49.7</td>\n",
       "      <td>5093.1</td>\n",
       "      <td>124</td>\n",
       "      <td>0.441704</td>\n",
       "    </tr>\n",
       "    <tr>\n",
       "      <th>49240</th>\n",
       "      <td>72</td>\n",
       "      <td>1</td>\n",
       "      <td>199</td>\n",
       "      <td>3.23</td>\n",
       "      <td>3</td>\n",
       "      <td>0</td>\n",
       "      <td>0</td>\n",
       "      <td>1</td>\n",
       "      <td>1.00</td>\n",
       "      <td>1</td>\n",
       "      <td>...</td>\n",
       "      <td>4.89</td>\n",
       "      <td>4.97</td>\n",
       "      <td>4.63</td>\n",
       "      <td>4.78</td>\n",
       "      <td>2.10</td>\n",
       "      <td>205.6</td>\n",
       "      <td>49.7</td>\n",
       "      <td>5093.1</td>\n",
       "      <td>124</td>\n",
       "      <td>0.228694</td>\n",
       "    </tr>\n",
       "    <tr>\n",
       "      <th>66358</th>\n",
       "      <td>23</td>\n",
       "      <td>2</td>\n",
       "      <td>106</td>\n",
       "      <td>2.07</td>\n",
       "      <td>4</td>\n",
       "      <td>123</td>\n",
       "      <td>7</td>\n",
       "      <td>1</td>\n",
       "      <td>1.00</td>\n",
       "      <td>1</td>\n",
       "      <td>...</td>\n",
       "      <td>4.83</td>\n",
       "      <td>4.86</td>\n",
       "      <td>4.71</td>\n",
       "      <td>4.77</td>\n",
       "      <td>2.45</td>\n",
       "      <td>205.6</td>\n",
       "      <td>49.7</td>\n",
       "      <td>5093.1</td>\n",
       "      <td>124</td>\n",
       "      <td>0.243548</td>\n",
       "    </tr>\n",
       "    <tr>\n",
       "      <th>40407</th>\n",
       "      <td>33</td>\n",
       "      <td>2</td>\n",
       "      <td>174</td>\n",
       "      <td>2.59</td>\n",
       "      <td>1</td>\n",
       "      <td>81</td>\n",
       "      <td>27</td>\n",
       "      <td>1</td>\n",
       "      <td>1.00</td>\n",
       "      <td>1</td>\n",
       "      <td>...</td>\n",
       "      <td>4.93</td>\n",
       "      <td>4.95</td>\n",
       "      <td>4.78</td>\n",
       "      <td>4.70</td>\n",
       "      <td>3.50</td>\n",
       "      <td>205.6</td>\n",
       "      <td>49.7</td>\n",
       "      <td>5093.1</td>\n",
       "      <td>124</td>\n",
       "      <td>0.225663</td>\n",
       "    </tr>\n",
       "  </tbody>\n",
       "</table>\n",
       "<p>2000 rows × 26 columns</p>\n",
       "</div>"
      ],
      "text/plain": [
       "        price  minimum_nights  number_of_reviews  reviews_per_month  \\\n",
       "46999     161               1                 62               0.97   \n",
       "96426      61               2                122               2.95   \n",
       "137801    110               2                 11               0.41   \n",
       "40072      61               5                131               1.94   \n",
       "100822     88               3                 34               0.86   \n",
       "...       ...             ...                ...                ...   \n",
       "75861      75               2                 36               0.78   \n",
       "35129      75               3                  7               0.10   \n",
       "49240      72               1                199               3.23   \n",
       "66358      23               2                106               2.07   \n",
       "40407      33               2                174               2.59   \n",
       "\n",
       "        calculated_host_listings_count  availability_365  \\\n",
       "46999                               38               317   \n",
       "96426                                1               346   \n",
       "137801                              10                65   \n",
       "40072                                2                 6   \n",
       "100822                              24               350   \n",
       "...                                ...               ...   \n",
       "75861                               30               214   \n",
       "35129                                2               324   \n",
       "49240                                3                 0   \n",
       "66358                                4               123   \n",
       "40407                                1                81   \n",
       "\n",
       "        number_of_reviews_ltm  host_response_time  host_response_rate  \\\n",
       "46999                       3                   1                0.98   \n",
       "96426                      24                   1                1.00   \n",
       "137801                      4                   1                1.00   \n",
       "40072                       9                   3                0.50   \n",
       "100822                      0                   1                1.00   \n",
       "...                       ...                 ...                 ...   \n",
       "75861                       7                   1                1.00   \n",
       "35129                       4                   1                1.00   \n",
       "49240                       0                   1                1.00   \n",
       "66358                       7                   1                1.00   \n",
       "40407                      27                   1                1.00   \n",
       "\n",
       "        host_is_superhost  ...  review_scores_checkin  \\\n",
       "46999                   0  ...                   4.61   \n",
       "96426                   0  ...                   4.78   \n",
       "137801                  0  ...                   4.90   \n",
       "40072                   0  ...                   4.85   \n",
       "100822                  0  ...                   4.03   \n",
       "...                   ...  ...                    ...   \n",
       "75861                   1  ...                   4.94   \n",
       "35129                   1  ...                   4.86   \n",
       "49240                   1  ...                   4.89   \n",
       "66358                   1  ...                   4.83   \n",
       "40407                   1  ...                   4.93   \n",
       "\n",
       "        review_scores_communication  review_scores_location  \\\n",
       "46999                          4.69                    4.86   \n",
       "96426                          4.89                    4.72   \n",
       "137801                         5.00                    4.90   \n",
       "40072                          4.86                    4.91   \n",
       "100822                         4.68                    4.79   \n",
       "...                             ...                     ...   \n",
       "75861                          4.83                    4.83   \n",
       "35129                          5.00                    4.57   \n",
       "49240                          4.97                    4.63   \n",
       "66358                          4.86                    4.71   \n",
       "40407                          4.95                    4.78   \n",
       "\n",
       "        review_scores_value  coefficient_of_location  purchase_power_pc  \\\n",
       "46999                  4.44                     3.50              205.6   \n",
       "96426                  4.72                     2.50              205.6   \n",
       "137801                 4.70                     3.00              205.6   \n",
       "40072                  4.77                     2.10              205.6   \n",
       "100822                 4.76                     2.45              205.6   \n",
       "...                     ...                      ...                ...   \n",
       "75861                  4.69                     2.60              205.6   \n",
       "35129                  4.43                     3.00              205.6   \n",
       "49240                  4.78                     2.10              205.6   \n",
       "66358                  4.77                     2.45              205.6   \n",
       "40407                  4.70                     3.50              205.6   \n",
       "\n",
       "        crime_pt  population_density  other_touristic_accomodations  Polarity  \n",
       "46999       49.7              5093.1                            124  0.329358  \n",
       "96426       49.7              5093.1                            124  0.318382  \n",
       "137801      49.7              5093.1                            124  0.099570  \n",
       "40072       49.7              5093.1                            124  0.354581  \n",
       "100822      49.7              5093.1                            124  0.316766  \n",
       "...          ...                 ...                            ...       ...  \n",
       "75861       49.7              5093.1                            124  0.359192  \n",
       "35129       49.7              5093.1                            124  0.441704  \n",
       "49240       49.7              5093.1                            124  0.228694  \n",
       "66358       49.7              5093.1                            124  0.243548  \n",
       "40407       49.7              5093.1                            124  0.225663  \n",
       "\n",
       "[2000 rows x 26 columns]"
      ]
     },
     "execution_count": 33,
     "metadata": {},
     "output_type": "execute_result"
    }
   ],
   "source": [
    "datalog_downsample"
   ]
  },
  {
   "cell_type": "code",
   "execution_count": 34,
   "id": "abdb0724",
   "metadata": {},
   "outputs": [],
   "source": [
    "x1= datalog_downsample.drop(\"host_is_superhost\", axis=1) #performs better with all the features\n",
    "y1= datalog_downsample[\"host_is_superhost\"]\n",
    "\n",
    "\n",
    "x111= datalog_downsample[[\"review_scores_rating\",\"host_response_rate\",\"Polarity\", \"crime_pt\", 'host_identity_verified',\"coefficient_of_location\", \"number_of_reviews\", \"price\"]]\n",
    "y111=datalog_downsample[[\"host_is_superhost\"]]"
   ]
  },
  {
   "cell_type": "code",
   "execution_count": 35,
   "id": "93100421",
   "metadata": {},
   "outputs": [],
   "source": [
    "from sklearn import svm"
   ]
  },
  {
   "cell_type": "code",
   "execution_count": 43,
   "id": "47cd4a90",
   "metadata": {},
   "outputs": [],
   "source": [
    "X1_train, X1_test, y1_train, y1_test = train_test_split(x111, y111, test_size=0.3, random_state=42)\n",
    "X1_train_scaled=scale(X1_train)\n",
    "X1_test_scaled=scale(X1_test)"
   ]
  },
  {
   "cell_type": "code",
   "execution_count": 44,
   "id": "831b5510",
   "metadata": {},
   "outputs": [
    {
     "name": "stderr",
     "output_type": "stream",
     "text": [
      "C:\\Users\\rodri\\anaconda3\\lib\\site-packages\\sklearn\\utils\\validation.py:63: DataConversionWarning: A column-vector y was passed when a 1d array was expected. Please change the shape of y to (n_samples, ), for example using ravel().\n",
      "  return f(*args, **kwargs)\n"
     ]
    },
    {
     "data": {
      "text/plain": [
       "SVC(random_state=42)"
      ]
     },
     "execution_count": 44,
     "metadata": {},
     "output_type": "execute_result"
    }
   ],
   "source": [
    "clf = svm.SVC(random_state=42) \n",
    "clf.fit(X1_train_scaled, y1_train)"
   ]
  },
  {
   "cell_type": "code",
   "execution_count": 45,
   "id": "32fda220",
   "metadata": {},
   "outputs": [
    {
     "name": "stdout",
     "output_type": "stream",
     "text": [
      "Accuracy: 0.77\n"
     ]
    }
   ],
   "source": [
    "from sklearn import metrics\n",
    "y_pred1 = clf.predict(X1_test_scaled)\n",
    "print(\"Accuracy:\",metrics.accuracy_score(y1_test, y_pred1))"
   ]
  },
  {
   "cell_type": "code",
   "execution_count": 46,
   "id": "2a35ae4a",
   "metadata": {},
   "outputs": [
    {
     "data": {
      "text/plain": [
       "<sklearn.metrics._plot.confusion_matrix.ConfusionMatrixDisplay at 0x1bf985a2220>"
      ]
     },
     "execution_count": 46,
     "metadata": {},
     "output_type": "execute_result"
    },
    {
     "data": {
      "image/png": "[encoded data removed]",
      "text/plain": [
       "<Figure size 432x288 with 2 Axes>"
      ]
     },
     "metadata": {
      "needs_background": "light"
     },
     "output_type": "display_data"
    }
   ],
   "source": [
    "from sklearn.metrics import plot_confusion_matrix\n",
    "plot_confusion_matrix(clf,\n",
    "                     X1_test_scaled,\n",
    "                     y1_test,\n",
    "                     values_format='d')"
   ]
  },
  {
   "cell_type": "code",
   "execution_count": 40,
   "id": "9e6faab7",
   "metadata": {},
   "outputs": [],
   "source": [
    "#finding the optimum parameters to increase the performance of svm algorithm\n",
    "param_grid=[\n",
    "    {'C': [0.5,1,10,100],\n",
    "     \"gamma\": ['scale',1,0.1,0.01,0.001, 0.0001],\n",
    "     'kernel': ['rbf', 'poly','sigmoid']}\n",
    "]"
   ]
  },
  {
   "cell_type": "code",
   "execution_count": 41,
   "id": "cee06a3b",
   "metadata": {},
   "outputs": [],
   "source": [
    "#Uing grid search to find best paramters\n",
    "optimal_params= GridSearchCV(\n",
    "    svm.SVC(),\n",
    "    param_grid,\n",
    "    cv=5,\n",
    "    scoring=\"accuracy\",\n",
    "    verbose=0)"
   ]
  },
  {
   "cell_type": "code",
   "execution_count": 52,
   "id": "a64d74bf",
   "metadata": {},
   "outputs": [
    {
     "ename": "KeyboardInterrupt",
     "evalue": "",
     "output_type": "error",
     "traceback": [
      "\u001b[1;31m---------------------------------------------------------------------------\u001b[0m",
      "\u001b[1;31mKeyboardInterrupt\u001b[0m                         Traceback (most recent call last)",
      "\u001b[1;32m~\\AppData\\Local\\Temp/ipykernel_13008/4085501827.py\u001b[0m in \u001b[0;36m<module>\u001b[1;34m\u001b[0m\n\u001b[1;32m----> 1\u001b[1;33m \u001b[0moptimal_params\u001b[0m\u001b[1;33m.\u001b[0m\u001b[0mfit\u001b[0m\u001b[1;33m(\u001b[0m\u001b[0mX1_train_scaled\u001b[0m\u001b[1;33m,\u001b[0m\u001b[0mnp\u001b[0m\u001b[1;33m.\u001b[0m\u001b[0mravel\u001b[0m\u001b[1;33m(\u001b[0m\u001b[0my1_train\u001b[0m\u001b[1;33m)\u001b[0m\u001b[1;33m)\u001b[0m\u001b[1;33m\u001b[0m\u001b[1;33m\u001b[0m\u001b[0m\n\u001b[0m\u001b[0;32m      2\u001b[0m \u001b[0mprint\u001b[0m\u001b[1;33m(\u001b[0m\u001b[0moptimal_params\u001b[0m\u001b[1;33m.\u001b[0m\u001b[0mbest_params_\u001b[0m\u001b[1;33m)\u001b[0m\u001b[1;33m\u001b[0m\u001b[1;33m\u001b[0m\u001b[0m\n",
      "\u001b[1;32m~\\anaconda3\\lib\\site-packages\\sklearn\\utils\\validation.py\u001b[0m in \u001b[0;36minner_f\u001b[1;34m(*args, **kwargs)\u001b[0m\n\u001b[0;32m     61\u001b[0m             \u001b[0mextra_args\u001b[0m \u001b[1;33m=\u001b[0m \u001b[0mlen\u001b[0m\u001b[1;33m(\u001b[0m\u001b[0margs\u001b[0m\u001b[1;33m)\u001b[0m \u001b[1;33m-\u001b[0m \u001b[0mlen\u001b[0m\u001b[1;33m(\u001b[0m\u001b[0mall_args\u001b[0m\u001b[1;33m)\u001b[0m\u001b[1;33m\u001b[0m\u001b[1;33m\u001b[0m\u001b[0m\n\u001b[0;32m     62\u001b[0m             \u001b[1;32mif\u001b[0m \u001b[0mextra_args\u001b[0m \u001b[1;33m<=\u001b[0m \u001b[1;36m0\u001b[0m\u001b[1;33m:\u001b[0m\u001b[1;33m\u001b[0m\u001b[1;33m\u001b[0m\u001b[0m\n\u001b[1;32m---> 63\u001b[1;33m                 \u001b[1;32mreturn\u001b[0m \u001b[0mf\u001b[0m\u001b[1;33m(\u001b[0m\u001b[1;33m*\u001b[0m\u001b[0margs\u001b[0m\u001b[1;33m,\u001b[0m \u001b[1;33m**\u001b[0m\u001b[0mkwargs\u001b[0m\u001b[1;33m)\u001b[0m\u001b[1;33m\u001b[0m\u001b[1;33m\u001b[0m\u001b[0m\n\u001b[0m\u001b[0;32m     64\u001b[0m \u001b[1;33m\u001b[0m\u001b[0m\n\u001b[0;32m     65\u001b[0m             \u001b[1;31m# extra_args > 0\u001b[0m\u001b[1;33m\u001b[0m\u001b[1;33m\u001b[0m\u001b[0m\n",
      "\u001b[1;32m~\\anaconda3\\lib\\site-packages\\sklearn\\model_selection\\_search.py\u001b[0m in \u001b[0;36mfit\u001b[1;34m(self, X, y, groups, **fit_params)\u001b[0m\n\u001b[0;32m    839\u001b[0m                 \u001b[1;32mreturn\u001b[0m \u001b[0mresults\u001b[0m\u001b[1;33m\u001b[0m\u001b[1;33m\u001b[0m\u001b[0m\n\u001b[0;32m    840\u001b[0m \u001b[1;33m\u001b[0m\u001b[0m\n\u001b[1;32m--> 841\u001b[1;33m             \u001b[0mself\u001b[0m\u001b[1;33m.\u001b[0m\u001b[0m_run_search\u001b[0m\u001b[1;33m(\u001b[0m\u001b[0mevaluate_candidates\u001b[0m\u001b[1;33m)\u001b[0m\u001b[1;33m\u001b[0m\u001b[1;33m\u001b[0m\u001b[0m\n\u001b[0m\u001b[0;32m    842\u001b[0m \u001b[1;33m\u001b[0m\u001b[0m\n\u001b[0;32m    843\u001b[0m             \u001b[1;31m# multimetric is determined here because in the case of a callable\u001b[0m\u001b[1;33m\u001b[0m\u001b[1;33m\u001b[0m\u001b[0m\n",
      "\u001b[1;32m~\\anaconda3\\lib\\site-packages\\sklearn\\model_selection\\_search.py\u001b[0m in \u001b[0;36m_run_search\u001b[1;34m(self, evaluate_candidates)\u001b[0m\n\u001b[0;32m   1294\u001b[0m     \u001b[1;32mdef\u001b[0m \u001b[0m_run_search\u001b[0m\u001b[1;33m(\u001b[0m\u001b[0mself\u001b[0m\u001b[1;33m,\u001b[0m \u001b[0mevaluate_candidates\u001b[0m\u001b[1;33m)\u001b[0m\u001b[1;33m:\u001b[0m\u001b[1;33m\u001b[0m\u001b[1;33m\u001b[0m\u001b[0m\n\u001b[0;32m   1295\u001b[0m         \u001b[1;34m\"\"\"Search all candidates in param_grid\"\"\"\u001b[0m\u001b[1;33m\u001b[0m\u001b[1;33m\u001b[0m\u001b[0m\n\u001b[1;32m-> 1296\u001b[1;33m         \u001b[0mevaluate_candidates\u001b[0m\u001b[1;33m(\u001b[0m\u001b[0mParameterGrid\u001b[0m\u001b[1;33m(\u001b[0m\u001b[0mself\u001b[0m\u001b[1;33m.\u001b[0m\u001b[0mparam_grid\u001b[0m\u001b[1;33m)\u001b[0m\u001b[1;33m)\u001b[0m\u001b[1;33m\u001b[0m\u001b[1;33m\u001b[0m\u001b[0m\n\u001b[0m\u001b[0;32m   1297\u001b[0m \u001b[1;33m\u001b[0m\u001b[0m\n\u001b[0;32m   1298\u001b[0m \u001b[1;33m\u001b[0m\u001b[0m\n",
      "\u001b[1;32m~\\anaconda3\\lib\\site-packages\\sklearn\\model_selection\\_search.py\u001b[0m in \u001b[0;36mevaluate_candidates\u001b[1;34m(candidate_params, cv, more_results)\u001b[0m\n\u001b[0;32m    793\u001b[0m                               n_splits, n_candidates, n_candidates * n_splits))\n\u001b[0;32m    794\u001b[0m \u001b[1;33m\u001b[0m\u001b[0m\n\u001b[1;32m--> 795\u001b[1;33m                 out = parallel(delayed(_fit_and_score)(clone(base_estimator),\n\u001b[0m\u001b[0;32m    796\u001b[0m                                                        \u001b[0mX\u001b[0m\u001b[1;33m,\u001b[0m \u001b[0my\u001b[0m\u001b[1;33m,\u001b[0m\u001b[1;33m\u001b[0m\u001b[1;33m\u001b[0m\u001b[0m\n\u001b[0;32m    797\u001b[0m                                                        \u001b[0mtrain\u001b[0m\u001b[1;33m=\u001b[0m\u001b[0mtrain\u001b[0m\u001b[1;33m,\u001b[0m \u001b[0mtest\u001b[0m\u001b[1;33m=\u001b[0m\u001b[0mtest\u001b[0m\u001b[1;33m,\u001b[0m\u001b[1;33m\u001b[0m\u001b[1;33m\u001b[0m\u001b[0m\n",
      "\u001b[1;32m~\\anaconda3\\lib\\site-packages\\joblib\\parallel.py\u001b[0m in \u001b[0;36m__call__\u001b[1;34m(self, iterable)\u001b[0m\n\u001b[0;32m   1044\u001b[0m                 \u001b[0mself\u001b[0m\u001b[1;33m.\u001b[0m\u001b[0m_iterating\u001b[0m \u001b[1;33m=\u001b[0m \u001b[0mself\u001b[0m\u001b[1;33m.\u001b[0m\u001b[0m_original_iterator\u001b[0m \u001b[1;32mis\u001b[0m \u001b[1;32mnot\u001b[0m \u001b[1;32mNone\u001b[0m\u001b[1;33m\u001b[0m\u001b[1;33m\u001b[0m\u001b[0m\n\u001b[0;32m   1045\u001b[0m \u001b[1;33m\u001b[0m\u001b[0m\n\u001b[1;32m-> 1046\u001b[1;33m             \u001b[1;32mwhile\u001b[0m \u001b[0mself\u001b[0m\u001b[1;33m.\u001b[0m\u001b[0mdispatch_one_batch\u001b[0m\u001b[1;33m(\u001b[0m\u001b[0miterator\u001b[0m\u001b[1;33m)\u001b[0m\u001b[1;33m:\u001b[0m\u001b[1;33m\u001b[0m\u001b[1;33m\u001b[0m\u001b[0m\n\u001b[0m\u001b[0;32m   1047\u001b[0m                 \u001b[1;32mpass\u001b[0m\u001b[1;33m\u001b[0m\u001b[1;33m\u001b[0m\u001b[0m\n\u001b[0;32m   1048\u001b[0m \u001b[1;33m\u001b[0m\u001b[0m\n",
      "\u001b[1;32m~\\anaconda3\\lib\\site-packages\\joblib\\parallel.py\u001b[0m in \u001b[0;36mdispatch_one_batch\u001b[1;34m(self, iterator)\u001b[0m\n\u001b[0;32m    859\u001b[0m                 \u001b[1;32mreturn\u001b[0m \u001b[1;32mFalse\u001b[0m\u001b[1;33m\u001b[0m\u001b[1;33m\u001b[0m\u001b[0m\n\u001b[0;32m    860\u001b[0m             \u001b[1;32melse\u001b[0m\u001b[1;33m:\u001b[0m\u001b[1;33m\u001b[0m\u001b[1;33m\u001b[0m\u001b[0m\n\u001b[1;32m--> 861\u001b[1;33m                 \u001b[0mself\u001b[0m\u001b[1;33m.\u001b[0m\u001b[0m_dispatch\u001b[0m\u001b[1;33m(\u001b[0m\u001b[0mtasks\u001b[0m\u001b[1;33m)\u001b[0m\u001b[1;33m\u001b[0m\u001b[1;33m\u001b[0m\u001b[0m\n\u001b[0m\u001b[0;32m    862\u001b[0m                 \u001b[1;32mreturn\u001b[0m \u001b[1;32mTrue\u001b[0m\u001b[1;33m\u001b[0m\u001b[1;33m\u001b[0m\u001b[0m\n\u001b[0;32m    863\u001b[0m \u001b[1;33m\u001b[0m\u001b[0m\n",
      "\u001b[1;32m~\\anaconda3\\lib\\site-packages\\joblib\\parallel.py\u001b[0m in \u001b[0;36m_dispatch\u001b[1;34m(self, batch)\u001b[0m\n\u001b[0;32m    777\u001b[0m         \u001b[1;32mwith\u001b[0m \u001b[0mself\u001b[0m\u001b[1;33m.\u001b[0m\u001b[0m_lock\u001b[0m\u001b[1;33m:\u001b[0m\u001b[1;33m\u001b[0m\u001b[1;33m\u001b[0m\u001b[0m\n\u001b[0;32m    778\u001b[0m             \u001b[0mjob_idx\u001b[0m \u001b[1;33m=\u001b[0m \u001b[0mlen\u001b[0m\u001b[1;33m(\u001b[0m\u001b[0mself\u001b[0m\u001b[1;33m.\u001b[0m\u001b[0m_jobs\u001b[0m\u001b[1;33m)\u001b[0m\u001b[1;33m\u001b[0m\u001b[1;33m\u001b[0m\u001b[0m\n\u001b[1;32m--> 779\u001b[1;33m             \u001b[0mjob\u001b[0m \u001b[1;33m=\u001b[0m \u001b[0mself\u001b[0m\u001b[1;33m.\u001b[0m\u001b[0m_backend\u001b[0m\u001b[1;33m.\u001b[0m\u001b[0mapply_async\u001b[0m\u001b[1;33m(\u001b[0m\u001b[0mbatch\u001b[0m\u001b[1;33m,\u001b[0m \u001b[0mcallback\u001b[0m\u001b[1;33m=\u001b[0m\u001b[0mcb\u001b[0m\u001b[1;33m)\u001b[0m\u001b[1;33m\u001b[0m\u001b[1;33m\u001b[0m\u001b[0m\n\u001b[0m\u001b[0;32m    780\u001b[0m             \u001b[1;31m# A job can complete so quickly than its callback is\u001b[0m\u001b[1;33m\u001b[0m\u001b[1;33m\u001b[0m\u001b[0m\n\u001b[0;32m    781\u001b[0m             \u001b[1;31m# called before we get here, causing self._jobs to\u001b[0m\u001b[1;33m\u001b[0m\u001b[1;33m\u001b[0m\u001b[0m\n",
      "\u001b[1;32m~\\anaconda3\\lib\\site-packages\\joblib\\_parallel_backends.py\u001b[0m in \u001b[0;36mapply_async\u001b[1;34m(self, func, callback)\u001b[0m\n\u001b[0;32m    206\u001b[0m     \u001b[1;32mdef\u001b[0m \u001b[0mapply_async\u001b[0m\u001b[1;33m(\u001b[0m\u001b[0mself\u001b[0m\u001b[1;33m,\u001b[0m \u001b[0mfunc\u001b[0m\u001b[1;33m,\u001b[0m \u001b[0mcallback\u001b[0m\u001b[1;33m=\u001b[0m\u001b[1;32mNone\u001b[0m\u001b[1;33m)\u001b[0m\u001b[1;33m:\u001b[0m\u001b[1;33m\u001b[0m\u001b[1;33m\u001b[0m\u001b[0m\n\u001b[0;32m    207\u001b[0m         \u001b[1;34m\"\"\"Schedule a func to be run\"\"\"\u001b[0m\u001b[1;33m\u001b[0m\u001b[1;33m\u001b[0m\u001b[0m\n\u001b[1;32m--> 208\u001b[1;33m         \u001b[0mresult\u001b[0m \u001b[1;33m=\u001b[0m \u001b[0mImmediateResult\u001b[0m\u001b[1;33m(\u001b[0m\u001b[0mfunc\u001b[0m\u001b[1;33m)\u001b[0m\u001b[1;33m\u001b[0m\u001b[1;33m\u001b[0m\u001b[0m\n\u001b[0m\u001b[0;32m    209\u001b[0m         \u001b[1;32mif\u001b[0m \u001b[0mcallback\u001b[0m\u001b[1;33m:\u001b[0m\u001b[1;33m\u001b[0m\u001b[1;33m\u001b[0m\u001b[0m\n\u001b[0;32m    210\u001b[0m             \u001b[0mcallback\u001b[0m\u001b[1;33m(\u001b[0m\u001b[0mresult\u001b[0m\u001b[1;33m)\u001b[0m\u001b[1;33m\u001b[0m\u001b[1;33m\u001b[0m\u001b[0m\n",
      "\u001b[1;32m~\\anaconda3\\lib\\site-packages\\joblib\\_parallel_backends.py\u001b[0m in \u001b[0;36m__init__\u001b[1;34m(self, batch)\u001b[0m\n\u001b[0;32m    570\u001b[0m         \u001b[1;31m# Don't delay the application, to avoid keeping the input\u001b[0m\u001b[1;33m\u001b[0m\u001b[1;33m\u001b[0m\u001b[0m\n\u001b[0;32m    571\u001b[0m         \u001b[1;31m# arguments in memory\u001b[0m\u001b[1;33m\u001b[0m\u001b[1;33m\u001b[0m\u001b[0m\n\u001b[1;32m--> 572\u001b[1;33m         \u001b[0mself\u001b[0m\u001b[1;33m.\u001b[0m\u001b[0mresults\u001b[0m \u001b[1;33m=\u001b[0m \u001b[0mbatch\u001b[0m\u001b[1;33m(\u001b[0m\u001b[1;33m)\u001b[0m\u001b[1;33m\u001b[0m\u001b[1;33m\u001b[0m\u001b[0m\n\u001b[0m\u001b[0;32m    573\u001b[0m \u001b[1;33m\u001b[0m\u001b[0m\n\u001b[0;32m    574\u001b[0m     \u001b[1;32mdef\u001b[0m \u001b[0mget\u001b[0m\u001b[1;33m(\u001b[0m\u001b[0mself\u001b[0m\u001b[1;33m)\u001b[0m\u001b[1;33m:\u001b[0m\u001b[1;33m\u001b[0m\u001b[1;33m\u001b[0m\u001b[0m\n",
      "\u001b[1;32m~\\anaconda3\\lib\\site-packages\\joblib\\parallel.py\u001b[0m in \u001b[0;36m__call__\u001b[1;34m(self)\u001b[0m\n\u001b[0;32m    260\u001b[0m         \u001b[1;31m# change the default number of processes to -1\u001b[0m\u001b[1;33m\u001b[0m\u001b[1;33m\u001b[0m\u001b[0m\n\u001b[0;32m    261\u001b[0m         \u001b[1;32mwith\u001b[0m \u001b[0mparallel_backend\u001b[0m\u001b[1;33m(\u001b[0m\u001b[0mself\u001b[0m\u001b[1;33m.\u001b[0m\u001b[0m_backend\u001b[0m\u001b[1;33m,\u001b[0m \u001b[0mn_jobs\u001b[0m\u001b[1;33m=\u001b[0m\u001b[0mself\u001b[0m\u001b[1;33m.\u001b[0m\u001b[0m_n_jobs\u001b[0m\u001b[1;33m)\u001b[0m\u001b[1;33m:\u001b[0m\u001b[1;33m\u001b[0m\u001b[1;33m\u001b[0m\u001b[0m\n\u001b[1;32m--> 262\u001b[1;33m             return [func(*args, **kwargs)\n\u001b[0m\u001b[0;32m    263\u001b[0m                     for func, args, kwargs in self.items]\n\u001b[0;32m    264\u001b[0m \u001b[1;33m\u001b[0m\u001b[0m\n",
      "\u001b[1;32m~\\anaconda3\\lib\\site-packages\\joblib\\parallel.py\u001b[0m in \u001b[0;36m<listcomp>\u001b[1;34m(.0)\u001b[0m\n\u001b[0;32m    260\u001b[0m         \u001b[1;31m# change the default number of processes to -1\u001b[0m\u001b[1;33m\u001b[0m\u001b[1;33m\u001b[0m\u001b[0m\n\u001b[0;32m    261\u001b[0m         \u001b[1;32mwith\u001b[0m \u001b[0mparallel_backend\u001b[0m\u001b[1;33m(\u001b[0m\u001b[0mself\u001b[0m\u001b[1;33m.\u001b[0m\u001b[0m_backend\u001b[0m\u001b[1;33m,\u001b[0m \u001b[0mn_jobs\u001b[0m\u001b[1;33m=\u001b[0m\u001b[0mself\u001b[0m\u001b[1;33m.\u001b[0m\u001b[0m_n_jobs\u001b[0m\u001b[1;33m)\u001b[0m\u001b[1;33m:\u001b[0m\u001b[1;33m\u001b[0m\u001b[1;33m\u001b[0m\u001b[0m\n\u001b[1;32m--> 262\u001b[1;33m             return [func(*args, **kwargs)\n\u001b[0m\u001b[0;32m    263\u001b[0m                     for func, args, kwargs in self.items]\n\u001b[0;32m    264\u001b[0m \u001b[1;33m\u001b[0m\u001b[0m\n",
      "\u001b[1;32m~\\anaconda3\\lib\\site-packages\\sklearn\\utils\\fixes.py\u001b[0m in \u001b[0;36m__call__\u001b[1;34m(self, *args, **kwargs)\u001b[0m\n\u001b[0;32m    220\u001b[0m     \u001b[1;32mdef\u001b[0m \u001b[0m__call__\u001b[0m\u001b[1;33m(\u001b[0m\u001b[0mself\u001b[0m\u001b[1;33m,\u001b[0m \u001b[1;33m*\u001b[0m\u001b[0margs\u001b[0m\u001b[1;33m,\u001b[0m \u001b[1;33m**\u001b[0m\u001b[0mkwargs\u001b[0m\u001b[1;33m)\u001b[0m\u001b[1;33m:\u001b[0m\u001b[1;33m\u001b[0m\u001b[1;33m\u001b[0m\u001b[0m\n\u001b[0;32m    221\u001b[0m         \u001b[1;32mwith\u001b[0m \u001b[0mconfig_context\u001b[0m\u001b[1;33m(\u001b[0m\u001b[1;33m**\u001b[0m\u001b[0mself\u001b[0m\u001b[1;33m.\u001b[0m\u001b[0mconfig\u001b[0m\u001b[1;33m)\u001b[0m\u001b[1;33m:\u001b[0m\u001b[1;33m\u001b[0m\u001b[1;33m\u001b[0m\u001b[0m\n\u001b[1;32m--> 222\u001b[1;33m             \u001b[1;32mreturn\u001b[0m \u001b[0mself\u001b[0m\u001b[1;33m.\u001b[0m\u001b[0mfunction\u001b[0m\u001b[1;33m(\u001b[0m\u001b[1;33m*\u001b[0m\u001b[0margs\u001b[0m\u001b[1;33m,\u001b[0m \u001b[1;33m**\u001b[0m\u001b[0mkwargs\u001b[0m\u001b[1;33m)\u001b[0m\u001b[1;33m\u001b[0m\u001b[1;33m\u001b[0m\u001b[0m\n\u001b[0m",
      "\u001b[1;32m~\\anaconda3\\lib\\site-packages\\sklearn\\model_selection\\_validation.py\u001b[0m in \u001b[0;36m_fit_and_score\u001b[1;34m(estimator, X, y, scorer, train, test, verbose, parameters, fit_params, return_train_score, return_parameters, return_n_test_samples, return_times, return_estimator, split_progress, candidate_progress, error_score)\u001b[0m\n\u001b[0;32m    596\u001b[0m             \u001b[0mestimator\u001b[0m\u001b[1;33m.\u001b[0m\u001b[0mfit\u001b[0m\u001b[1;33m(\u001b[0m\u001b[0mX_train\u001b[0m\u001b[1;33m,\u001b[0m \u001b[1;33m**\u001b[0m\u001b[0mfit_params\u001b[0m\u001b[1;33m)\u001b[0m\u001b[1;33m\u001b[0m\u001b[1;33m\u001b[0m\u001b[0m\n\u001b[0;32m    597\u001b[0m         \u001b[1;32melse\u001b[0m\u001b[1;33m:\u001b[0m\u001b[1;33m\u001b[0m\u001b[1;33m\u001b[0m\u001b[0m\n\u001b[1;32m--> 598\u001b[1;33m             \u001b[0mestimator\u001b[0m\u001b[1;33m.\u001b[0m\u001b[0mfit\u001b[0m\u001b[1;33m(\u001b[0m\u001b[0mX_train\u001b[0m\u001b[1;33m,\u001b[0m \u001b[0my_train\u001b[0m\u001b[1;33m,\u001b[0m \u001b[1;33m**\u001b[0m\u001b[0mfit_params\u001b[0m\u001b[1;33m)\u001b[0m\u001b[1;33m\u001b[0m\u001b[1;33m\u001b[0m\u001b[0m\n\u001b[0m\u001b[0;32m    599\u001b[0m \u001b[1;33m\u001b[0m\u001b[0m\n\u001b[0;32m    600\u001b[0m     \u001b[1;32mexcept\u001b[0m \u001b[0mException\u001b[0m \u001b[1;32mas\u001b[0m \u001b[0me\u001b[0m\u001b[1;33m:\u001b[0m\u001b[1;33m\u001b[0m\u001b[1;33m\u001b[0m\u001b[0m\n",
      "\u001b[1;32m~\\anaconda3\\lib\\site-packages\\sklearn\\svm\\_base.py\u001b[0m in \u001b[0;36mfit\u001b[1;34m(self, X, y, sample_weight)\u001b[0m\n\u001b[0;32m    224\u001b[0m \u001b[1;33m\u001b[0m\u001b[0m\n\u001b[0;32m    225\u001b[0m         \u001b[0mseed\u001b[0m \u001b[1;33m=\u001b[0m \u001b[0mrnd\u001b[0m\u001b[1;33m.\u001b[0m\u001b[0mrandint\u001b[0m\u001b[1;33m(\u001b[0m\u001b[0mnp\u001b[0m\u001b[1;33m.\u001b[0m\u001b[0miinfo\u001b[0m\u001b[1;33m(\u001b[0m\u001b[1;34m'i'\u001b[0m\u001b[1;33m)\u001b[0m\u001b[1;33m.\u001b[0m\u001b[0mmax\u001b[0m\u001b[1;33m)\u001b[0m\u001b[1;33m\u001b[0m\u001b[1;33m\u001b[0m\u001b[0m\n\u001b[1;32m--> 226\u001b[1;33m         \u001b[0mfit\u001b[0m\u001b[1;33m(\u001b[0m\u001b[0mX\u001b[0m\u001b[1;33m,\u001b[0m \u001b[0my\u001b[0m\u001b[1;33m,\u001b[0m \u001b[0msample_weight\u001b[0m\u001b[1;33m,\u001b[0m \u001b[0msolver_type\u001b[0m\u001b[1;33m,\u001b[0m \u001b[0mkernel\u001b[0m\u001b[1;33m,\u001b[0m \u001b[0mrandom_seed\u001b[0m\u001b[1;33m=\u001b[0m\u001b[0mseed\u001b[0m\u001b[1;33m)\u001b[0m\u001b[1;33m\u001b[0m\u001b[1;33m\u001b[0m\u001b[0m\n\u001b[0m\u001b[0;32m    227\u001b[0m         \u001b[1;31m# see comment on the other call to np.iinfo in this file\u001b[0m\u001b[1;33m\u001b[0m\u001b[1;33m\u001b[0m\u001b[0m\n\u001b[0;32m    228\u001b[0m \u001b[1;33m\u001b[0m\u001b[0m\n",
      "\u001b[1;32m~\\anaconda3\\lib\\site-packages\\sklearn\\svm\\_base.py\u001b[0m in \u001b[0;36m_dense_fit\u001b[1;34m(self, X, y, sample_weight, solver_type, kernel, random_seed)\u001b[0m\n\u001b[0;32m    275\u001b[0m         \u001b[0mself\u001b[0m\u001b[1;33m.\u001b[0m\u001b[0msupport_\u001b[0m\u001b[1;33m,\u001b[0m \u001b[0mself\u001b[0m\u001b[1;33m.\u001b[0m\u001b[0msupport_vectors_\u001b[0m\u001b[1;33m,\u001b[0m \u001b[0mself\u001b[0m\u001b[1;33m.\u001b[0m\u001b[0m_n_support\u001b[0m\u001b[1;33m,\u001b[0m\u001b[0;31m \u001b[0m\u001b[0;31m\\\u001b[0m\u001b[1;33m\u001b[0m\u001b[1;33m\u001b[0m\u001b[0m\n\u001b[0;32m    276\u001b[0m             \u001b[0mself\u001b[0m\u001b[1;33m.\u001b[0m\u001b[0mdual_coef_\u001b[0m\u001b[1;33m,\u001b[0m \u001b[0mself\u001b[0m\u001b[1;33m.\u001b[0m\u001b[0mintercept_\u001b[0m\u001b[1;33m,\u001b[0m \u001b[0mself\u001b[0m\u001b[1;33m.\u001b[0m\u001b[0m_probA\u001b[0m\u001b[1;33m,\u001b[0m\u001b[0;31m \u001b[0m\u001b[0;31m\\\u001b[0m\u001b[1;33m\u001b[0m\u001b[1;33m\u001b[0m\u001b[0m\n\u001b[1;32m--> 277\u001b[1;33m             self._probB, self.fit_status_ = libsvm.fit(\n\u001b[0m\u001b[0;32m    278\u001b[0m                 \u001b[0mX\u001b[0m\u001b[1;33m,\u001b[0m \u001b[0my\u001b[0m\u001b[1;33m,\u001b[0m\u001b[1;33m\u001b[0m\u001b[1;33m\u001b[0m\u001b[0m\n\u001b[0;32m    279\u001b[0m                 \u001b[0msvm_type\u001b[0m\u001b[1;33m=\u001b[0m\u001b[0msolver_type\u001b[0m\u001b[1;33m,\u001b[0m \u001b[0msample_weight\u001b[0m\u001b[1;33m=\u001b[0m\u001b[0msample_weight\u001b[0m\u001b[1;33m,\u001b[0m\u001b[1;33m\u001b[0m\u001b[1;33m\u001b[0m\u001b[0m\n",
      "\u001b[1;31mKeyboardInterrupt\u001b[0m: "
     ]
    }
   ],
   "source": [
    "optimal_params.fit(X1_train_scaled,np.ravel(y1_train))\n",
    "print(optimal_params.best_params_)"
   ]
  },
  {
   "cell_type": "code",
   "execution_count": null,
   "id": "dd1d94b4",
   "metadata": {},
   "outputs": [],
   "source": [
    "clf_svm= svm.SVC(random_state=42, C=10, gamma= 0.01)\n",
    "clf_svm.fit(X1_train_scaled,y1_train)"
   ]
  },
  {
   "cell_type": "code",
   "execution_count": null,
   "id": "22bda73b",
   "metadata": {},
   "outputs": [],
   "source": [
    "plot_confusion_matrix(clf_svm,\n",
    "                     X1_test_scaled,\n",
    "                     y1_test,\n",
    "                     values_format='d')"
   ]
  },
  {
   "cell_type": "code",
   "execution_count": null,
   "id": "50a8a68e",
   "metadata": {},
   "outputs": [],
   "source": [
    "#only improves accuracy by 0.05%\n",
    "y_pred2 = clf_svm.predict(X1_test_scaled)\n",
    "print(\"Accuracy:\",metrics.accuracy_score(y1_test, y_pred2))"
   ]
  },
  {
   "cell_type": "markdown",
   "id": "98c11aab",
   "metadata": {},
   "source": [
    "## PCA"
   ]
  },
  {
   "cell_type": "code",
   "execution_count": 53,
   "id": "3453a462",
   "metadata": {},
   "outputs": [
    {
     "data": {
      "image/png": "[encoded data removed]",
      "text/plain": [
       "<Figure size 432x288 with 1 Axes>"
      ]
     },
     "metadata": {
      "needs_background": "light"
     },
     "output_type": "display_data"
    }
   ],
   "source": [
    "#Doing PCA\n",
    "pca= PCA()\n",
    "X_train_pca=pca.fit_transform(X1_train_scaled)\n",
    "\n",
    "per_var = np.round(pca.explained_variance_ratio_*100, decimals=1)\n",
    "labels= [str(x) for x in range(1, len(per_var)+1)]\n",
    "\n",
    "plt.bar(x=range(1,len(per_var)+1), height=per_var)\n",
    "plt.tick_params(\n",
    "    axis=\"x\",\n",
    "    which=\"both\",\n",
    "    bottom= False,\n",
    "    top= False,\n",
    "    labelbottom= False)\n",
    "\n",
    "plt.ylabel(\"Percentage of explained variance\")\n",
    "plt.xlabel(\"Principal components\")\n",
    "plt.title(\"Scree plot\")\n",
    "plt.show()\n"
   ]
  },
  {
   "cell_type": "code",
   "execution_count": 54,
   "id": "a1ef82ef",
   "metadata": {},
   "outputs": [],
   "source": [
    "#using pca in SVM\n",
    "train_pca1_coords= X_train_pca[:, 0]\n",
    "train_pca2_coords= X_train_pca[:, 1]\n",
    "\n",
    "#scaling the data\n",
    "pca_train_scaled= scale(np.column_stack((train_pca1_coords,train_pca2_coords)))"
   ]
  },
  {
   "cell_type": "code",
   "execution_count": null,
   "id": "0f58c309",
   "metadata": {},
   "outputs": [],
   "source": [
    "#finding the best paramters\n",
    "param_grid=[\n",
    "    {'C': [0.5,1,10,100],\n",
    "     \"gamma\": ['scale',1,0.1,0.01,0.001, 0.0001],\n",
    "     'kernel': ['rbf']}\n",
    "]"
   ]
  },
  {
   "cell_type": "code",
   "execution_count": null,
   "id": "14d82312",
   "metadata": {},
   "outputs": [],
   "source": [
    "optimal_params= GridSearchCV(\n",
    "    svm.SVC(),\n",
    "    param_grid,\n",
    "    cv=5,\n",
    "    scoring=\"accuracy\",\n",
    "    verbose=0)"
   ]
  },
  {
   "cell_type": "code",
   "execution_count": null,
   "id": "8846be2f",
   "metadata": {},
   "outputs": [],
   "source": [
    "optimal_params.fit(pca_train_scaled,y1_train)\n",
    "print(optimal_params.best_params_)"
   ]
  },
  {
   "cell_type": "code",
   "execution_count": 56,
   "id": "14d163bc",
   "metadata": {},
   "outputs": [
    {
     "name": "stderr",
     "output_type": "stream",
     "text": [
      "C:\\Users\\rodri\\anaconda3\\lib\\site-packages\\sklearn\\utils\\validation.py:63: DataConversionWarning: A column-vector y was passed when a 1d array was expected. Please change the shape of y to (n_samples, ), for example using ravel().\n",
      "  return f(*args, **kwargs)\n"
     ]
    },
    {
     "data": {
      "image/png": "[encoded data removed]",
      "text/plain": [
       "<Figure size 720x720 with 1 Axes>"
      ]
     },
     "metadata": {
      "needs_background": "light"
     },
     "output_type": "display_data"
    }
   ],
   "source": [
    "#plotting the result in a two dimension graph\n",
    "import matplotlib.colors as colors\n",
    "clf_svm = svm.SVC(random_state=42, C=0.5, gamma= \"scale\")\n",
    "clf_svm.fit(pca_train_scaled,y1_train)\n",
    "\n",
    "X_test_pca =pca.transform(X1_train_scaled)\n",
    "test_pca1_coords= X_test_pca[:, 0]\n",
    "test_pca2_coords= X_test_pca[:, 1]\n",
    "\n",
    "\n",
    "x_min= test_pca1_coords.min() -1\n",
    "x_max= test_pca1_coords.max() +1\n",
    "\n",
    "y_min= test_pca2_coords.min() -1\n",
    "y_max= test_pca2_coords.max() +1\n",
    "\n",
    "xx, yy= np.meshgrid(np.arange(start=x_min, stop=x_max, step= 0.1),\n",
    "                   np.arange(start=y_min, stop= y_max, step=0.1))\n",
    "\n",
    "Z = clf_svm.predict(np.column_stack((xx.ravel(), yy.ravel())))\n",
    "\n",
    "Z = Z.reshape(xx.shape)\n",
    "fig, ax= plt.subplots(figsize=(10,10))\n",
    "ax.contourf(xx, yy, Z, alpha= 0.1)\n",
    "\n",
    "cmap=colors.ListedColormap(['#e41a1c','#4daf4a'])\n",
    "\n",
    "scatter= ax.scatter(test_pca1_coords, test_pca2_coords, c=np.ravel(y1_train),\n",
    "                   cmap=cmap,\n",
    "                   s=100,\n",
    "                   edgecolors='k',\n",
    "                   alpha=0.7)\n",
    "legend= ax.legend(scatter.legend_elements()[0],\n",
    "                 scatter.legend_elements()[1],\n",
    "                 loc='upper right')\n",
    "\n",
    "legend.get_texts()[0].set_text(\"Host\")\n",
    "legend.get_texts()[1].set_text(\"Super Host\")\n",
    "\n",
    "ax.set_ylabel('PC2')\n",
    "ax.set_xlabel('PC1')\n",
    "plt.show()"
   ]
  },
  {
   "cell_type": "markdown",
   "id": "691c9d04",
   "metadata": {},
   "source": [
    "## Decision tree"
   ]
  },
  {
   "cell_type": "code",
   "execution_count": null,
   "id": "0f06f9f0",
   "metadata": {},
   "outputs": [],
   "source": [
    "import pandas as pd\n",
    "from sklearn.tree import DecisionTreeClassifier \n",
    "from sklearn.model_selection import train_test_split \n",
    "from sklearn import metrics "
   ]
  },
  {
   "cell_type": "code",
   "execution_count": null,
   "id": "69b7fbc7",
   "metadata": {},
   "outputs": [],
   "source": [
    "#splitting dat\n",
    "X2_train, X2_test, y2_train, y2_test = train_test_split(x3, y, test_size=0.3, random_state=1)"
   ]
  },
  {
   "cell_type": "code",
   "execution_count": null,
   "id": "6d2494ac",
   "metadata": {},
   "outputs": [],
   "source": [
    "#finding the best depth level\n",
    "max_depth_range = list((3, 5,10,15,20,25,30))\n",
    "# List to store the accuracy for each value of max_depth:\n",
    "accuracy = []\n",
    "for depth in max_depth_range:\n",
    "    \n",
    "    clf = DecisionTreeClassifier(max_depth = depth, \n",
    "                             random_state = 0)\n",
    "    clf.fit(X2_train, y2_train)\n",
    "    score = clf.score(X2_test, y2_test)\n",
    "    accuracy.append(score)"
   ]
  },
  {
   "cell_type": "code",
   "execution_count": null,
   "id": "671afccc",
   "metadata": {},
   "outputs": [],
   "source": [
    "accuracy"
   ]
  },
  {
   "cell_type": "code",
   "execution_count": null,
   "id": "ba1812a2",
   "metadata": {},
   "outputs": [],
   "source": [
    "#ploting the depth/ accuracy relation for visualization purposes \n",
    "plt.plot(max_depth_range,accuracy)\n",
    "plt.xlabel(\"Max depth of the tree\")\n",
    "plt.ylabel(\"Classifier accuracy\")\n",
    "plt.show()"
   ]
  },
  {
   "cell_type": "code",
   "execution_count": null,
   "id": "622cd785",
   "metadata": {},
   "outputs": [],
   "source": [
    "#creating the classifier\n",
    "clf = DecisionTreeClassifier()\n",
    "clf = clf.fit(X2_train,y2_train)"
   ]
  },
  {
   "cell_type": "code",
   "execution_count": null,
   "id": "10620c11",
   "metadata": {
    "scrolled": true
   },
   "outputs": [],
   "source": [
    "#classifier prediction\n",
    "y_pred3 = clf.predict(X2_test)\n",
    "print(\"Accuracy:\",metrics.accuracy_score(y2_test, y_pred3))"
   ]
  },
  {
   "cell_type": "code",
   "execution_count": null,
   "id": "67c6a649",
   "metadata": {},
   "outputs": [],
   "source": [
    "Tree_roc_auc=roc_auc_score(y2_test, clf.predict_proba(X2_test)[:,1])\n",
    "\n",
    "fpr, tpr, _ = roc_curve(y2_test, clf.predict_proba(X2_test)[:,1])\n",
    "\n",
    "plt.clf()\n",
    "plt.plot(fpr, tpr,label='Decision tree (area = %0.3f)' % Tree_roc_auc)\n",
    "plt.plot([0, 1], [0, 1],'r--')\n",
    "plt.xlabel('FPR')\n",
    "plt.ylabel('TPR')\n",
    "plt.title('ROC curve')\n",
    "plt.xlabel('False Positive Rate')\n",
    "plt.ylabel('True Positive Rate')\n",
    "plt.title('Receiver operating characteristic')\n",
    "plt.legend(loc=\"lower right\")\n",
    "plt.show()"
   ]
  },
  {
   "cell_type": "code",
   "execution_count": null,
   "id": "e504475f",
   "metadata": {},
   "outputs": [],
   "source": [
    "#Visualizing the classification tree\n",
    "from sklearn.tree import export_graphviz\n",
    "from six import StringIO\n",
    "from IPython.display import Image  \n",
    "import pydotplus\n",
    "import os\n",
    "\n",
    "os.environ['PATH'] = os.environ['PATH']+';'+os.environ['CONDA_PREFIX']+r\"\\Library\\bin\\graphviz\"\n",
    "\n",
    "feature_cols=[\"review_scores_rating\",\"host_response_rate\",\"Polarity\", \"crime_pt\", 'host_identity_verified',\"coefficient_of_location\", \"number_of_reviews\", \"price\"]\n",
    "\n",
    "dot_data = StringIO()\n",
    "export_graphviz(clf, out_file=dot_data,  \n",
    "                filled=True, rounded=True,\n",
    "                special_characters=True,feature_names = feature_cols,class_names=['0','1'])\n",
    "graph = pydotplus.graph_from_dot_data(dot_data.getvalue())\n",
    "\n",
    "#graph.write_png('superhost.png')\n",
    "Image(graph.create_png())\n"
   ]
  },
  {
   "cell_type": "code",
   "execution_count": null,
   "id": "c6cac025",
   "metadata": {},
   "outputs": [],
   "source": [
    "#Pruning the tree, so it becomes less complex\n",
    "clf = DecisionTreeClassifier(criterion=\"entropy\", max_depth=3)\n",
    "\n",
    "# Train Decision Tree Classifer\n",
    "clf = clf.fit(X2_train,y2_train)\n",
    "\n",
    "\n",
    "y_pred4 = clf.predict(X2_test)\n",
    "\n",
    "\n",
    "print(\"Accuracy:\",metrics.accuracy_score(y2_test, y_pred4))"
   ]
  },
  {
   "cell_type": "code",
   "execution_count": null,
   "id": "52339252",
   "metadata": {
    "scrolled": true
   },
   "outputs": [],
   "source": [
    "#Visualizing the prunned tree\n",
    "dot_data = StringIO()\n",
    "export_graphviz(clf, out_file=dot_data,  \n",
    "                filled=True, rounded=True,\n",
    "                special_characters=True, feature_names = feature_cols,class_names=['0','1'])\n",
    "graph = pydotplus.graph_from_dot_data(dot_data.getvalue())  \n",
    "#graph.write_png('prunnedtree.png')\n",
    "Image(graph.create_png())"
   ]
  },
  {
   "cell_type": "markdown",
   "id": "00989ea8",
   "metadata": {},
   "source": [
    "## Random forest"
   ]
  },
  {
   "cell_type": "markdown",
   "id": "722a6614",
   "metadata": {},
   "source": [
    "Implementing random forest to better suit the data set and avoid over fitting"
   ]
  },
  {
   "cell_type": "code",
   "execution_count": null,
   "id": "b4612752",
   "metadata": {},
   "outputs": [],
   "source": [
    "from sklearn.ensemble import RandomForestClassifier\n",
    "from sklearn.model_selection import cross_val_score\n",
    "from sklearn.model_selection import RepeatedStratifiedKFold\n",
    "from numpy import mean\n",
    "from numpy import std"
   ]
  },
  {
   "cell_type": "code",
   "execution_count": null,
   "id": "f35f8bbd",
   "metadata": {},
   "outputs": [],
   "source": [
    "model = RandomForestClassifier()\n",
    "#3 repeats and 10 folds\n",
    "cv = RepeatedStratifiedKFold(n_splits=10, n_repeats=3, random_state=1)"
   ]
  },
  {
   "cell_type": "code",
   "execution_count": null,
   "id": "4ff6d407",
   "metadata": {},
   "outputs": [],
   "source": [
    "n_scores = cross_val_score(model, x3, y, scoring='accuracy', cv=cv, n_jobs=-1, error_score='raise')"
   ]
  },
  {
   "cell_type": "code",
   "execution_count": null,
   "id": "1c53e16c",
   "metadata": {},
   "outputs": [],
   "source": [
    "print('Accuracy: %.3f (%.3f)' % (mean(n_scores), std(n_scores)))"
   ]
  }
 ],
 "metadata": {
  "kernelspec": {
   "display_name": "Python 3 (ipykernel)",
   "language": "python",
   "name": "python3"
  },
  "language_info": {
   "codemirror_mode": {
    "name": "ipython",
    "version": 3
   },
   "file_extension": ".py",
   "mimetype": "text/x-python",
   "name": "python",
   "nbconvert_exporter": "python",
   "pygments_lexer": "ipython3",
   "version": "3.9.7"
  }
 },
 "nbformat": 4,
 "nbformat_minor": 5
}
