{
 "cells": [
  {
   "cell_type": "code",
   "execution_count": 18,
   "metadata": {},
   "outputs": [],
   "source": [
    "#importing all the packages\n",
    "import pandas as pd\n",
    "import numpy as np\n",
    "import numpy as np\n",
    "import pandas as pd\n",
    "from matplotlib import pyplot as plt\n",
    "from sklearn.cluster import KMeans\n",
    "from sklearn import metrics\n",
    "from sklearn.cluster import MeanShift"
   ]
  },
  {
   "cell_type": "code",
   "execution_count": 2,
   "metadata": {},
   "outputs": [],
   "source": [
    "#importing data\n",
    "listings = pd.read_csv(\"listing_update/listingsUpdateOut.csv\")\n",
    "neighb = pd.read_csv(\"neighbourhoods_update/neighbourhoods_update.csv\", sep = \",\")\n",
    "main = pd.merge(listings, neighb, how=\"inner\", on=\"neighbourhood_group\")"
   ]
  },
  {
   "cell_type": "code",
   "execution_count": 21,
   "metadata": {},
   "outputs": [],
   "source": [
    "#selecting variables for clustering\n",
    "data = main[[\"price\", 'coefficient_of_location', \"population_density\", \"purchase_power_pc\", \"crime_rate_pc\"]]"
   ]
  },
  {
   "cell_type": "code",
   "execution_count": 14,
   "metadata": {},
   "outputs": [
    {
     "data": {
      "text/plain": [
       "{'Alenquer',\n",
       " 'Amadora',\n",
       " 'Azambuja',\n",
       " 'Cadaval',\n",
       " 'Cascais',\n",
       " 'Lisboa',\n",
       " 'Loures',\n",
       " 'Mafra',\n",
       " 'Odivelas',\n",
       " 'Oeiras',\n",
       " 'Sintra',\n",
       " 'Torres Vedras'}"
      ]
     },
     "execution_count": 14,
     "metadata": {},
     "output_type": "execute_result"
    }
   ],
   "source": [
    "#there are 12 different municipalities\n",
    "#will the clustering algorithm be able to cluster the subjects and identify 12 different groups?\n",
    "set(list(neighb.neighbourhood_group))"
   ]
  },
  {
   "cell_type": "code",
   "execution_count": 20,
   "metadata": {},
   "outputs": [
    {
     "data": {
      "image/png": "[encoded data removed]",
      "text/plain": [
       "<Figure size 432x288 with 1 Axes>"
      ]
     },
     "metadata": {
      "needs_background": "light"
     },
     "output_type": "display_data"
    }
   ],
   "source": [
    "# WCSS\n",
    "\n",
    "wcss = []\n",
    "for i in range(1, 15):\n",
    "    model =KMeans(n_clusters=i, random_state=1)\n",
    "    model.fit(data)\n",
    "    wcss.append(model.inertia_)\n",
    "plt.plot(range(1, 15), wcss)\n",
    "plt.title('Elbow Method')\n",
    "plt.xlabel('Number of clusters')\n",
    "plt.ylabel('WCSS')\n",
    "plt.show()"
   ]
  },
  {
   "cell_type": "code",
   "execution_count": null,
   "metadata": {},
   "outputs": [],
   "source": [
    "# silhouette score\n",
    "#  Note that Silhouette Coefficient is only defined if number of labels is 2 <= n_labels <= n_samples - 1.\n",
    "kmeans_model = KMeans(n_clusters=2, random_state=1).fit(data)\n",
    "labels = kmeans_model.labels_\n",
    "metrics.silhouette_score(data, labels, metric='euclidean')"
   ]
  },
  {
   "cell_type": "code",
   "execution_count": null,
   "metadata": {},
   "outputs": [],
   "source": [
    "model1 = MeanShift(bandwidth=0.02) \n",
    "model1.fit_predict(df1)\n",
    "plt.scatter(df1[\"price\"], df1[\"coefficient_of_location\"])\n",
    "plt.scatter(model1.cluster_centers_[:, 0], model1.cluster_centers_[:, 1], s=300, c='red')\n",
    "plt.show()\n"
   ]
  },
  {
   "cell_type": "code",
   "execution_count": null,
   "metadata": {},
   "outputs": [],
   "source": []
  }
 ],
 "metadata": {
  "kernelspec": {
   "display_name": "Python 3",
   "language": "python",
   "name": "python3"
  },
  "language_info": {
   "codemirror_mode": {
    "name": "ipython",
    "version": 3
   },
   "file_extension": ".py",
   "mimetype": "text/x-python",
   "name": "python",
   "nbconvert_exporter": "python",
   "pygments_lexer": "ipython3",
   "version": "3.8.3"
  }
 },
 "nbformat": 4,
 "nbformat_minor": 4
}
