{
 "cells": [
  {
   "cell_type": "code",
   "execution_count": 3,
   "id": "e512db32",
   "metadata": {},
   "outputs": [
    {
     "data": {
      "text/plain": [
       "listing_id       888619\n",
       "id               888619\n",
       "date             888619\n",
       "reviewer_id      888619\n",
       "reviewer_name    888619\n",
       "comments         888179\n",
       "dtype: int64"
      ]
     },
     "execution_count": 3,
     "metadata": {},
     "output_type": "execute_result"
    }
   ],
   "source": [
    "\n",
    "import pandas as pd \n",
    "import numpy as np \n",
    "\n",
    "df_reviews_long = pd.read_csv(\"reviews.csv\", )\n"
   ]
  },
  {
   "cell_type": "code",
   "execution_count": 4,
   "id": "e58313c1",
   "metadata": {},
   "outputs": [
    {
     "data": {
      "text/plain": [
       "listing_id       888619\n",
       "id               888619\n",
       "date             888619\n",
       "reviewer_id      888619\n",
       "reviewer_name    888619\n",
       "comments         888179\n",
       "dtype: int64"
      ]
     },
     "execution_count": 4,
     "metadata": {},
     "output_type": "execute_result"
    }
   ],
   "source": [
    "df_reviews_long.count()"
   ]
  },
  {
   "cell_type": "code",
   "execution_count": null,
   "id": "988ddf24",
   "metadata": {},
   "outputs": [],
   "source": [
    "df_reviews_long.tail()\n"
   ]
  },
  {
   "cell_type": "code",
   "execution_count": 2,
   "id": "2e51ba46",
   "metadata": {},
   "outputs": [
    {
     "data": {
      "text/html": [
       "<div>\n",
       "<style scoped>\n",
       "    .dataframe tbody tr th:only-of-type {\n",
       "        vertical-align: middle;\n",
       "    }\n",
       "\n",
       "    .dataframe tbody tr th {\n",
       "        vertical-align: top;\n",
       "    }\n",
       "\n",
       "    .dataframe thead th {\n",
       "        text-align: right;\n",
       "    }\n",
       "</style>\n",
       "<table border=\"1\" class=\"dataframe\">\n",
       "  <thead>\n",
       "    <tr style=\"text-align: right;\">\n",
       "      <th></th>\n",
       "      <th>comments</th>\n",
       "    </tr>\n",
       "  </thead>\n",
       "  <tbody>\n",
       "    <tr>\n",
       "      <th>0</th>\n",
       "      <td>Ola Bruno,\\r&lt;br/&gt;\\r&lt;br/&gt;Tive um mes Fantástico...</td>\n",
       "    </tr>\n",
       "    <tr>\n",
       "      <th>1</th>\n",
       "      <td>Encontramos o apartamento de Bruno exatamente ...</td>\n",
       "    </tr>\n",
       "    <tr>\n",
       "      <th>2</th>\n",
       "      <td>Estivemos em Lisboa por aproximadamente 03 (tr...</td>\n",
       "    </tr>\n",
       "    <tr>\n",
       "      <th>3</th>\n",
       "      <td>Superbe quartier très proche du tram et du tra...</td>\n",
       "    </tr>\n",
       "    <tr>\n",
       "      <th>4</th>\n",
       "      <td>Très bel appartement, bien situé et à proximit...</td>\n",
       "    </tr>\n",
       "    <tr>\n",
       "      <th>...</th>\n",
       "      <td>...</td>\n",
       "    </tr>\n",
       "    <tr>\n",
       "      <th>888614</th>\n",
       "      <td>정말 완벽한 숙소 에요 호스트분께서 친절하게 설명해 주시고 주변으로 &lt;br/&gt;맛집이...</td>\n",
       "    </tr>\n",
       "    <tr>\n",
       "      <th>888615</th>\n",
       "      <td>Gostei muito da hospedagem, tudo muito limpo, ...</td>\n",
       "    </tr>\n",
       "    <tr>\n",
       "      <th>888616</th>\n",
       "      <td>Eine sehr tolle Unterkunft. Kann ich nur weite...</td>\n",
       "    </tr>\n",
       "    <tr>\n",
       "      <th>888617</th>\n",
       "      <td>I had a great experience staying at Carla's ap...</td>\n",
       "    </tr>\n",
       "    <tr>\n",
       "      <th>888618</th>\n",
       "      <td>A charming small studio in the heart of where ...</td>\n",
       "    </tr>\n",
       "  </tbody>\n",
       "</table>\n",
       "<p>888619 rows × 1 columns</p>\n",
       "</div>"
      ],
      "text/plain": [
       "                                                 comments\n",
       "0       Ola Bruno,\\r<br/>\\r<br/>Tive um mes Fantástico...\n",
       "1       Encontramos o apartamento de Bruno exatamente ...\n",
       "2       Estivemos em Lisboa por aproximadamente 03 (tr...\n",
       "3       Superbe quartier très proche du tram et du tra...\n",
       "4       Très bel appartement, bien situé et à proximit...\n",
       "...                                                   ...\n",
       "888614  정말 완벽한 숙소 에요 호스트분께서 친절하게 설명해 주시고 주변으로 <br/>맛집이...\n",
       "888615  Gostei muito da hospedagem, tudo muito limpo, ...\n",
       "888616  Eine sehr tolle Unterkunft. Kann ich nur weite...\n",
       "888617  I had a great experience staying at Carla's ap...\n",
       "888618  A charming small studio in the heart of where ...\n",
       "\n",
       "[888619 rows x 1 columns]"
      ]
     },
     "execution_count": 2,
     "metadata": {},
     "output_type": "execute_result"
    }
   ],
   "source": [
    "df_reviews_long[[\"comments\"]]"
   ]
  },
  {
   "cell_type": "code",
   "execution_count": 5,
   "id": "98a571fd",
   "metadata": {},
   "outputs": [],
   "source": [
    "df_reviews_long_noMissingVal = df_reviews_long.dropna()"
   ]
  },
  {
   "cell_type": "code",
   "execution_count": 6,
   "id": "8287b716",
   "metadata": {},
   "outputs": [
    {
     "data": {
      "text/plain": [
       "listing_id       888179\n",
       "id               888179\n",
       "date             888179\n",
       "reviewer_id      888179\n",
       "reviewer_name    888179\n",
       "comments         888179\n",
       "dtype: int64"
      ]
     },
     "execution_count": 6,
     "metadata": {},
     "output_type": "execute_result"
    }
   ],
   "source": [
    "df_reviews_long_noMissingVal.count()"
   ]
  },
  {
   "cell_type": "code",
   "execution_count": 15,
   "id": "d9b7faba",
   "metadata": {},
   "outputs": [],
   "source": [
    "a = df_reviews_long_noMissingVal[\"comments\"][0]\n"
   ]
  },
  {
   "cell_type": "code",
   "execution_count": 16,
   "id": "7f261429",
   "metadata": {},
   "outputs": [
    {
     "name": "stdout",
     "output_type": "stream",
     "text": [
      "Ola Bruno,\r",
      "<br/>\r",
      "<br/>Tive um mes Fantástico em seu apartamento. O apartamento realmente está bem situado. Um elétrico passa a cada 15 min. em frente, bem como várias linhas de autocarro. Isto facilita para ir ao Centro de Lisboa. Pontos turísticos e restaurantes  bem próximos.\r",
      "<br/>Apartamento aconchegante com facilidade em organizá-lo. Ótimo acesso a internet. Boa vizinhança.\r",
      "<br/>Sempre tive apoio do anfitriao Bruno, bem como otima comunicao online. Esteve sempre auxiliando e buscou resolver de imediato coisas inesperadas no apartamento.\r",
      "<br/>\r",
      "<br/>Obrigado! Até à próxima oportunidade de estar em Lisboa.\n"
     ]
    }
   ],
   "source": [
    "print(a)"
   ]
  },
  {
   "cell_type": "code",
   "execution_count": 20,
   "id": "06868d78",
   "metadata": {},
   "outputs": [],
   "source": [
    "a = a.replace(\"\\r<br/>\", \"\")"
   ]
  },
  {
   "cell_type": "code",
   "execution_count": 21,
   "id": "03e07a6c",
   "metadata": {},
   "outputs": [
    {
     "data": {
      "text/plain": [
       "578"
      ]
     },
     "execution_count": 21,
     "metadata": {},
     "output_type": "execute_result"
    }
   ],
   "source": [
    "len(a)"
   ]
  },
  {
   "cell_type": "code",
   "execution_count": 13,
   "id": "fa0adb72",
   "metadata": {},
   "outputs": [
    {
     "data": {
      "text/plain": [
       "'Ola Bruno,\\r<br/>\\r<br/>Tive um mes Fantástico em seu apartamento. O apartamento realmente está bem situado. Um elétrico passa a cada 15 min. em frente, bem como várias linhas de autocarro. Isto facilita para ir ao Centro de Lisboa. Pontos turísticos e restaurantes  bem próximos.\\r<br/>Apartamento aconchegante com facilidade em organizá-lo. Ótimo acesso a internet. Boa vizinhança.\\r<br/>Sempre tive apoio do anfitriao Bruno, bem como otima comunicao online. Esteve sempre auxiliando e buscou resolver de imediato coisas inesperadas no apartamento.\\r<br/>\\r<br/>Obrigado! Até à próxima oportunidade de estar em Lisboa.'"
      ]
     },
     "execution_count": 13,
     "metadata": {},
     "output_type": "execute_result"
    }
   ],
   "source": [
    "df_reviews_long_noMissingVal[\"comments\"][0]"
   ]
  },
  {
   "cell_type": "code",
   "execution_count": 17,
   "id": "9b3a8d2e",
   "metadata": {},
   "outputs": [
    {
     "data": {
      "text/plain": [
       "614"
      ]
     },
     "execution_count": 17,
     "metadata": {},
     "output_type": "execute_result"
    }
   ],
   "source": [
    "len(a)"
   ]
  },
  {
   "cell_type": "code",
   "execution_count": 24,
   "id": "570e49fa",
   "metadata": {},
   "outputs": [
    {
     "name": "stderr",
     "output_type": "stream",
     "text": [
      "<ipython-input-24-f90844904658>:7: SettingWithCopyWarning: \n",
      "A value is trying to be set on a copy of a slice from a DataFrame\n",
      "\n",
      "See the caveats in the documentation: https://pandas.pydata.org/pandas-docs/stable/user_guide/indexing.html#returning-a-view-versus-a-copy\n",
      "  comments[i] = comments[i].replace(\"\\r<br/>\", \"\")\n"
     ]
    },
    {
     "ename": "KeyError",
     "evalue": "144",
     "output_type": "error",
     "traceback": [
      "\u001b[1;31m---------------------------------------------------------------------------\u001b[0m",
      "\u001b[1;31mKeyError\u001b[0m                                  Traceback (most recent call last)",
      "\u001b[1;32m~\\anaconda3_210917\\lib\\site-packages\\pandas\\core\\indexes\\base.py\u001b[0m in \u001b[0;36mget_loc\u001b[1;34m(self, key, method, tolerance)\u001b[0m\n\u001b[0;32m   3079\u001b[0m             \u001b[1;32mtry\u001b[0m\u001b[1;33m:\u001b[0m\u001b[1;33m\u001b[0m\u001b[1;33m\u001b[0m\u001b[0m\n\u001b[1;32m-> 3080\u001b[1;33m                 \u001b[1;32mreturn\u001b[0m \u001b[0mself\u001b[0m\u001b[1;33m.\u001b[0m\u001b[0m_engine\u001b[0m\u001b[1;33m.\u001b[0m\u001b[0mget_loc\u001b[0m\u001b[1;33m(\u001b[0m\u001b[0mcasted_key\u001b[0m\u001b[1;33m)\u001b[0m\u001b[1;33m\u001b[0m\u001b[1;33m\u001b[0m\u001b[0m\n\u001b[0m\u001b[0;32m   3081\u001b[0m             \u001b[1;32mexcept\u001b[0m \u001b[0mKeyError\u001b[0m \u001b[1;32mas\u001b[0m \u001b[0merr\u001b[0m\u001b[1;33m:\u001b[0m\u001b[1;33m\u001b[0m\u001b[1;33m\u001b[0m\u001b[0m\n",
      "\u001b[1;32mpandas\\_libs\\index.pyx\u001b[0m in \u001b[0;36mpandas._libs.index.IndexEngine.get_loc\u001b[1;34m()\u001b[0m\n",
      "\u001b[1;32mpandas\\_libs\\index.pyx\u001b[0m in \u001b[0;36mpandas._libs.index.IndexEngine.get_loc\u001b[1;34m()\u001b[0m\n",
      "\u001b[1;32mpandas\\_libs\\hashtable_class_helper.pxi\u001b[0m in \u001b[0;36mpandas._libs.hashtable.Int64HashTable.get_item\u001b[1;34m()\u001b[0m\n",
      "\u001b[1;32mpandas\\_libs\\hashtable_class_helper.pxi\u001b[0m in \u001b[0;36mpandas._libs.hashtable.Int64HashTable.get_item\u001b[1;34m()\u001b[0m\n",
      "\u001b[1;31mKeyError\u001b[0m: 144",
      "\nThe above exception was the direct cause of the following exception:\n",
      "\u001b[1;31mKeyError\u001b[0m                                  Traceback (most recent call last)",
      "\u001b[1;32m<ipython-input-24-f90844904658>\u001b[0m in \u001b[0;36m<module>\u001b[1;34m\u001b[0m\n\u001b[0;32m      4\u001b[0m \u001b[1;31m# Remove \"\\r<br/>\" from column \"comments\"\u001b[0m\u001b[1;33m\u001b[0m\u001b[1;33m\u001b[0m\u001b[1;33m\u001b[0m\u001b[0m\n\u001b[0;32m      5\u001b[0m \u001b[1;32mfor\u001b[0m \u001b[0mi\u001b[0m \u001b[1;32min\u001b[0m \u001b[0mrange\u001b[0m \u001b[1;33m(\u001b[0m\u001b[0mlen\u001b[0m\u001b[1;33m(\u001b[0m\u001b[0mcomments\u001b[0m\u001b[1;33m)\u001b[0m\u001b[1;33m)\u001b[0m\u001b[1;33m:\u001b[0m\u001b[1;33m\u001b[0m\u001b[1;33m\u001b[0m\u001b[0m\n\u001b[1;32m----> 6\u001b[1;33m     \u001b[1;32mif\u001b[0m \u001b[0mtype\u001b[0m\u001b[1;33m(\u001b[0m\u001b[0mcomments\u001b[0m\u001b[1;33m[\u001b[0m\u001b[0mi\u001b[0m\u001b[1;33m]\u001b[0m\u001b[1;33m)\u001b[0m \u001b[1;33m==\u001b[0m \u001b[0mstr\u001b[0m\u001b[1;33m:\u001b[0m\u001b[1;33m\u001b[0m\u001b[1;33m\u001b[0m\u001b[0m\n\u001b[0m\u001b[0;32m      7\u001b[0m         \u001b[0mcomments\u001b[0m\u001b[1;33m[\u001b[0m\u001b[0mi\u001b[0m\u001b[1;33m]\u001b[0m \u001b[1;33m=\u001b[0m \u001b[0mcomments\u001b[0m\u001b[1;33m[\u001b[0m\u001b[0mi\u001b[0m\u001b[1;33m]\u001b[0m\u001b[1;33m.\u001b[0m\u001b[0mreplace\u001b[0m\u001b[1;33m(\u001b[0m\u001b[1;34m\"\\r<br/>\"\u001b[0m\u001b[1;33m,\u001b[0m \u001b[1;34m\"\"\u001b[0m\u001b[1;33m)\u001b[0m\u001b[1;33m\u001b[0m\u001b[1;33m\u001b[0m\u001b[0m\n",
      "\u001b[1;32m~\\anaconda3_210917\\lib\\site-packages\\pandas\\core\\series.py\u001b[0m in \u001b[0;36m__getitem__\u001b[1;34m(self, key)\u001b[0m\n\u001b[0;32m    851\u001b[0m \u001b[1;33m\u001b[0m\u001b[0m\n\u001b[0;32m    852\u001b[0m         \u001b[1;32melif\u001b[0m \u001b[0mkey_is_scalar\u001b[0m\u001b[1;33m:\u001b[0m\u001b[1;33m\u001b[0m\u001b[1;33m\u001b[0m\u001b[0m\n\u001b[1;32m--> 853\u001b[1;33m             \u001b[1;32mreturn\u001b[0m \u001b[0mself\u001b[0m\u001b[1;33m.\u001b[0m\u001b[0m_get_value\u001b[0m\u001b[1;33m(\u001b[0m\u001b[0mkey\u001b[0m\u001b[1;33m)\u001b[0m\u001b[1;33m\u001b[0m\u001b[1;33m\u001b[0m\u001b[0m\n\u001b[0m\u001b[0;32m    854\u001b[0m \u001b[1;33m\u001b[0m\u001b[0m\n\u001b[0;32m    855\u001b[0m         \u001b[1;32mif\u001b[0m \u001b[0mis_hashable\u001b[0m\u001b[1;33m(\u001b[0m\u001b[0mkey\u001b[0m\u001b[1;33m)\u001b[0m\u001b[1;33m:\u001b[0m\u001b[1;33m\u001b[0m\u001b[1;33m\u001b[0m\u001b[0m\n",
      "\u001b[1;32m~\\anaconda3_210917\\lib\\site-packages\\pandas\\core\\series.py\u001b[0m in \u001b[0;36m_get_value\u001b[1;34m(self, label, takeable)\u001b[0m\n\u001b[0;32m    959\u001b[0m \u001b[1;33m\u001b[0m\u001b[0m\n\u001b[0;32m    960\u001b[0m         \u001b[1;31m# Similar to Index.get_value, but we do not fall back to positional\u001b[0m\u001b[1;33m\u001b[0m\u001b[1;33m\u001b[0m\u001b[1;33m\u001b[0m\u001b[0m\n\u001b[1;32m--> 961\u001b[1;33m         \u001b[0mloc\u001b[0m \u001b[1;33m=\u001b[0m \u001b[0mself\u001b[0m\u001b[1;33m.\u001b[0m\u001b[0mindex\u001b[0m\u001b[1;33m.\u001b[0m\u001b[0mget_loc\u001b[0m\u001b[1;33m(\u001b[0m\u001b[0mlabel\u001b[0m\u001b[1;33m)\u001b[0m\u001b[1;33m\u001b[0m\u001b[1;33m\u001b[0m\u001b[0m\n\u001b[0m\u001b[0;32m    962\u001b[0m         \u001b[1;32mreturn\u001b[0m \u001b[0mself\u001b[0m\u001b[1;33m.\u001b[0m\u001b[0mindex\u001b[0m\u001b[1;33m.\u001b[0m\u001b[0m_get_values_for_loc\u001b[0m\u001b[1;33m(\u001b[0m\u001b[0mself\u001b[0m\u001b[1;33m,\u001b[0m \u001b[0mloc\u001b[0m\u001b[1;33m,\u001b[0m \u001b[0mlabel\u001b[0m\u001b[1;33m)\u001b[0m\u001b[1;33m\u001b[0m\u001b[1;33m\u001b[0m\u001b[0m\n\u001b[0;32m    963\u001b[0m \u001b[1;33m\u001b[0m\u001b[0m\n",
      "\u001b[1;32m~\\anaconda3_210917\\lib\\site-packages\\pandas\\core\\indexes\\base.py\u001b[0m in \u001b[0;36mget_loc\u001b[1;34m(self, key, method, tolerance)\u001b[0m\n\u001b[0;32m   3080\u001b[0m                 \u001b[1;32mreturn\u001b[0m \u001b[0mself\u001b[0m\u001b[1;33m.\u001b[0m\u001b[0m_engine\u001b[0m\u001b[1;33m.\u001b[0m\u001b[0mget_loc\u001b[0m\u001b[1;33m(\u001b[0m\u001b[0mcasted_key\u001b[0m\u001b[1;33m)\u001b[0m\u001b[1;33m\u001b[0m\u001b[1;33m\u001b[0m\u001b[0m\n\u001b[0;32m   3081\u001b[0m             \u001b[1;32mexcept\u001b[0m \u001b[0mKeyError\u001b[0m \u001b[1;32mas\u001b[0m \u001b[0merr\u001b[0m\u001b[1;33m:\u001b[0m\u001b[1;33m\u001b[0m\u001b[1;33m\u001b[0m\u001b[0m\n\u001b[1;32m-> 3082\u001b[1;33m                 \u001b[1;32mraise\u001b[0m \u001b[0mKeyError\u001b[0m\u001b[1;33m(\u001b[0m\u001b[0mkey\u001b[0m\u001b[1;33m)\u001b[0m \u001b[1;32mfrom\u001b[0m \u001b[0merr\u001b[0m\u001b[1;33m\u001b[0m\u001b[1;33m\u001b[0m\u001b[0m\n\u001b[0m\u001b[0;32m   3083\u001b[0m \u001b[1;33m\u001b[0m\u001b[0m\n\u001b[0;32m   3084\u001b[0m         \u001b[1;32mif\u001b[0m \u001b[0mtolerance\u001b[0m \u001b[1;32mis\u001b[0m \u001b[1;32mnot\u001b[0m \u001b[1;32mNone\u001b[0m\u001b[1;33m:\u001b[0m\u001b[1;33m\u001b[0m\u001b[1;33m\u001b[0m\u001b[0m\n",
      "\u001b[1;31mKeyError\u001b[0m: 144"
     ]
    }
   ],
   "source": [
    "comments = df_reviews_long_noMissingVal[\"comments\"]\n",
    "\n",
    "\n",
    "# Remove \"\\r<br/>\" from column \"comments\"\n",
    "for i in range (len(comments)):\n",
    "    if type(comments[i]) == str:\n",
    "        comments[i] = comments[i].replace(\"\\r<br/>\", \"\")"
   ]
  },
  {
   "cell_type": "code",
   "execution_count": 25,
   "id": "a2c4a2f5",
   "metadata": {},
   "outputs": [
    {
     "name": "stdout",
     "output_type": "stream",
     "text": [
      "0         Ola Bruno,Tive um mes Fantástico em seu aparta...\n",
      "1         Encontramos o apartamento de Bruno exatamente ...\n",
      "2         Estivemos em Lisboa por aproximadamente 03 (tr...\n",
      "3         Superbe quartier très proche du tram et du tra...\n",
      "4         Très bel appartement, bien situé et à proximit...\n",
      "                                ...                        \n",
      "888614    정말 완벽한 숙소 에요 호스트분께서 친절하게 설명해 주시고 주변으로 <br/>맛집이...\n",
      "888615    Gostei muito da hospedagem, tudo muito limpo, ...\n",
      "888616    Eine sehr tolle Unterkunft. Kann ich nur weite...\n",
      "888617    I had a great experience staying at Carla's ap...\n",
      "888618    A charming small studio in the heart of where ...\n",
      "Name: comments, Length: 888179, dtype: object\n"
     ]
    }
   ],
   "source": [
    "print(comments)"
   ]
  },
  {
   "cell_type": "code",
   "execution_count": 28,
   "id": "159e9ba0",
   "metadata": {},
   "outputs": [
    {
     "data": {
      "text/plain": [
       "'Estivemos em Lisboa por aproximadamente 03 (três) meses. Durante o período, Bruno se mostrou um excelente anfitrião, bastante solícito e resolutivo, nos atendendo prontamente. O apartamento é aconchegante e dispôs do que precisávamos, ou seja, correspondeu todas as nossas expectativas. O apartamento é muito bem localizado, tendo uma vizinhança ótima (proximidade ao Rio Tejo e a dois pontos turísticos belíssimos, a Torre de Belém e o Mosteiro do Jerônimos, além de pontos de transporte público a menos de um minuto. Observamos como ponto negativo, mas que não desmerece de maneira alguma o apartamento, a entrada do prédio que apresenta uma escada estreita e com iluminação deficiente. Sem mais, qualificamos positivamente o local, a disponibilidade do anfitrião e a estrutura do apartamento para um casal, foi uma ótima escolha.Recomendamos esta estadia!'"
      ]
     },
     "execution_count": 28,
     "metadata": {},
     "output_type": "execute_result"
    }
   ],
   "source": [
    "df_reviews_long_noMissingVal[\"comments\"][2]"
   ]
  },
  {
   "cell_type": "code",
   "execution_count": 29,
   "id": "bf376c71",
   "metadata": {},
   "outputs": [
    {
     "data": {
      "text/plain": [
       "0         Ola Bruno,Tive um mes Fantástico em seu aparta...\n",
       "1         Encontramos o apartamento de Bruno exatamente ...\n",
       "2         Estivemos em Lisboa por aproximadamente 03 (tr...\n",
       "3         Superbe quartier très proche du tram et du tra...\n",
       "4         Très bel appartement, bien situé et à proximit...\n",
       "                                ...                        \n",
       "888614    정말 완벽한 숙소 에요 호스트분께서 친절하게 설명해 주시고 주변으로 <br/>맛집이...\n",
       "888615    Gostei muito da hospedagem, tudo muito limpo, ...\n",
       "888616    Eine sehr tolle Unterkunft. Kann ich nur weite...\n",
       "888617    I had a great experience staying at Carla's ap...\n",
       "888618    A charming small studio in the heart of where ...\n",
       "Name: comments, Length: 888179, dtype: object"
      ]
     },
     "execution_count": 29,
     "metadata": {},
     "output_type": "execute_result"
    }
   ],
   "source": [
    "df_reviews_long_noMissingVal[\"comments\"]"
   ]
  },
  {
   "cell_type": "code",
   "execution_count": 30,
   "id": "50898598",
   "metadata": {},
   "outputs": [
    {
     "data": {
      "text/html": [
       "<div>\n",
       "<style scoped>\n",
       "    .dataframe tbody tr th:only-of-type {\n",
       "        vertical-align: middle;\n",
       "    }\n",
       "\n",
       "    .dataframe tbody tr th {\n",
       "        vertical-align: top;\n",
       "    }\n",
       "\n",
       "    .dataframe thead th {\n",
       "        text-align: right;\n",
       "    }\n",
       "</style>\n",
       "<table border=\"1\" class=\"dataframe\">\n",
       "  <thead>\n",
       "    <tr style=\"text-align: right;\">\n",
       "      <th></th>\n",
       "      <th>listing_id</th>\n",
       "      <th>id</th>\n",
       "      <th>date</th>\n",
       "      <th>reviewer_id</th>\n",
       "      <th>reviewer_name</th>\n",
       "      <th>comments</th>\n",
       "    </tr>\n",
       "  </thead>\n",
       "  <tbody>\n",
       "    <tr>\n",
       "      <th>0</th>\n",
       "      <td>6499</td>\n",
       "      <td>18879225</td>\n",
       "      <td>2014-09-02</td>\n",
       "      <td>17027029</td>\n",
       "      <td>Simone</td>\n",
       "      <td>Ola Bruno,Tive um mes Fantástico em seu aparta...</td>\n",
       "    </tr>\n",
       "    <tr>\n",
       "      <th>1</th>\n",
       "      <td>6499</td>\n",
       "      <td>21074122</td>\n",
       "      <td>2014-10-11</td>\n",
       "      <td>7661611</td>\n",
       "      <td>Cláudio</td>\n",
       "      <td>Encontramos o apartamento de Bruno exatamente ...</td>\n",
       "    </tr>\n",
       "    <tr>\n",
       "      <th>2</th>\n",
       "      <td>6499</td>\n",
       "      <td>24704004</td>\n",
       "      <td>2015-01-02</td>\n",
       "      <td>20348870</td>\n",
       "      <td>Rodrigo</td>\n",
       "      <td>Estivemos em Lisboa por aproximadamente 03 (tr...</td>\n",
       "    </tr>\n",
       "    <tr>\n",
       "      <th>3</th>\n",
       "      <td>6499</td>\n",
       "      <td>37894945</td>\n",
       "      <td>2015-07-11</td>\n",
       "      <td>34762351</td>\n",
       "      <td>Blandine</td>\n",
       "      <td>Superbe quartier très proche du tram et du tra...</td>\n",
       "    </tr>\n",
       "    <tr>\n",
       "      <th>4</th>\n",
       "      <td>6499</td>\n",
       "      <td>41672462</td>\n",
       "      <td>2015-08-08</td>\n",
       "      <td>39438424</td>\n",
       "      <td>Mirjana</td>\n",
       "      <td>Très bel appartement, bien situé et à proximit...</td>\n",
       "    </tr>\n",
       "    <tr>\n",
       "      <th>...</th>\n",
       "      <td>...</td>\n",
       "      <td>...</td>\n",
       "      <td>...</td>\n",
       "      <td>...</td>\n",
       "      <td>...</td>\n",
       "      <td>...</td>\n",
       "    </tr>\n",
       "    <tr>\n",
       "      <th>888614</th>\n",
       "      <td>53414853</td>\n",
       "      <td>506342584800263311</td>\n",
       "      <td>2021-11-29</td>\n",
       "      <td>398278891</td>\n",
       "      <td>Heejoong</td>\n",
       "      <td>정말 완벽한 숙소 에요 호스트분께서 친절하게 설명해 주시고 주변으로 &lt;br/&gt;맛집이...</td>\n",
       "    </tr>\n",
       "    <tr>\n",
       "      <th>888615</th>\n",
       "      <td>53458315</td>\n",
       "      <td>504113851485003061</td>\n",
       "      <td>2021-11-26</td>\n",
       "      <td>25412098</td>\n",
       "      <td>Suellen</td>\n",
       "      <td>Gostei muito da hospedagem, tudo muito limpo, ...</td>\n",
       "    </tr>\n",
       "    <tr>\n",
       "      <th>888616</th>\n",
       "      <td>53487620</td>\n",
       "      <td>504144507695068571</td>\n",
       "      <td>2021-11-26</td>\n",
       "      <td>308750378</td>\n",
       "      <td>Melisa</td>\n",
       "      <td>Eine sehr tolle Unterkunft. Kann ich nur weite...</td>\n",
       "    </tr>\n",
       "    <tr>\n",
       "      <th>888617</th>\n",
       "      <td>53491572</td>\n",
       "      <td>512168913343764491</td>\n",
       "      <td>2021-12-07</td>\n",
       "      <td>20956607</td>\n",
       "      <td>Owen</td>\n",
       "      <td>I had a great experience staying at Carla's ap...</td>\n",
       "    </tr>\n",
       "    <tr>\n",
       "      <th>888618</th>\n",
       "      <td>53567473</td>\n",
       "      <td>510695362220475067</td>\n",
       "      <td>2021-12-05</td>\n",
       "      <td>30368851</td>\n",
       "      <td>Sid</td>\n",
       "      <td>A charming small studio in the heart of where ...</td>\n",
       "    </tr>\n",
       "  </tbody>\n",
       "</table>\n",
       "<p>888179 rows × 6 columns</p>\n",
       "</div>"
      ],
      "text/plain": [
       "        listing_id                  id        date  reviewer_id reviewer_name  \\\n",
       "0             6499            18879225  2014-09-02     17027029        Simone   \n",
       "1             6499            21074122  2014-10-11      7661611       Cláudio   \n",
       "2             6499            24704004  2015-01-02     20348870       Rodrigo   \n",
       "3             6499            37894945  2015-07-11     34762351      Blandine   \n",
       "4             6499            41672462  2015-08-08     39438424       Mirjana   \n",
       "...            ...                 ...         ...          ...           ...   \n",
       "888614    53414853  506342584800263311  2021-11-29    398278891      Heejoong   \n",
       "888615    53458315  504113851485003061  2021-11-26     25412098       Suellen   \n",
       "888616    53487620  504144507695068571  2021-11-26    308750378        Melisa   \n",
       "888617    53491572  512168913343764491  2021-12-07     20956607          Owen   \n",
       "888618    53567473  510695362220475067  2021-12-05     30368851           Sid   \n",
       "\n",
       "                                                 comments  \n",
       "0       Ola Bruno,Tive um mes Fantástico em seu aparta...  \n",
       "1       Encontramos o apartamento de Bruno exatamente ...  \n",
       "2       Estivemos em Lisboa por aproximadamente 03 (tr...  \n",
       "3       Superbe quartier très proche du tram et du tra...  \n",
       "4       Très bel appartement, bien situé et à proximit...  \n",
       "...                                                   ...  \n",
       "888614  정말 완벽한 숙소 에요 호스트분께서 친절하게 설명해 주시고 주변으로 <br/>맛집이...  \n",
       "888615  Gostei muito da hospedagem, tudo muito limpo, ...  \n",
       "888616  Eine sehr tolle Unterkunft. Kann ich nur weite...  \n",
       "888617  I had a great experience staying at Carla's ap...  \n",
       "888618  A charming small studio in the heart of where ...  \n",
       "\n",
       "[888179 rows x 6 columns]"
      ]
     },
     "execution_count": 30,
     "metadata": {},
     "output_type": "execute_result"
    }
   ],
   "source": [
    "df_reviews_long_noMissingVal"
   ]
  },
  {
   "cell_type": "code",
   "execution_count": null,
   "id": "003eb7b5",
   "metadata": {},
   "outputs": [],
   "source": []
  }
 ],
 "metadata": {
  "kernelspec": {
   "display_name": "Python 3",
   "language": "python",
   "name": "python3"
  },
  "language_info": {
   "codemirror_mode": {
    "name": "ipython",
    "version": 3
   },
   "file_extension": ".py",
   "mimetype": "text/x-python",
   "name": "python",
   "nbconvert_exporter": "python",
   "pygments_lexer": "ipython3",
   "version": "3.8.8"
  }
 },
 "nbformat": 4,
 "nbformat_minor": 5
}
